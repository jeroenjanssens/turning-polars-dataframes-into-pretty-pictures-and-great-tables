{
 "cells": [
  {
   "cell_type": "markdown",
   "id": "46d886ed-92e1-4a7b-81ba-ced72ae3ec0c",
   "metadata": {},
   "source": [
    "# Introducing Polars Expressions"
   ]
  },
  {
   "cell_type": "code",
   "execution_count": 1,
   "id": "a8596e81",
   "metadata": {},
   "outputs": [
    {
     "name": "stdout",
     "output_type": "stream",
     "text": [
      "--------Version info---------\n",
      "Polars:               0.20.23\n",
      "Index type:           UInt32\n",
      "Platform:             macOS-12.5-arm64-arm-64bit\n",
      "Python:               3.12.3 (main, Apr  9 2024, 16:03:47) [Clang 14.0.0 (clang-1400.0.29.202)]\n",
      "\n",
      "----Optional dependencies----\n",
      "adbc_driver_manager:  <not installed>\n",
      "cloudpickle:          3.0.0\n",
      "connectorx:           <not installed>\n",
      "deltalake:            <not installed>\n",
      "fastexcel:            0.9.1\n",
      "fsspec:               2023.12.2\n",
      "gevent:               <not installed>\n",
      "hvplot:               0.9.2\n",
      "matplotlib:           3.8.4\n",
      "nest_asyncio:         1.6.0\n",
      "numpy:                1.26.4\n",
      "openpyxl:             3.1.2\n",
      "pandas:               2.2.2\n",
      "pyarrow:              14.0.2\n",
      "pydantic:             <not installed>\n",
      "pyiceberg:            <not installed>\n",
      "pyxlsb:               <not installed>\n",
      "sqlalchemy:           <not installed>\n",
      "xlsx2csv:             0.8.2\n",
      "xlsxwriter:           3.2.0\n"
     ]
    }
   ],
   "source": [
    "import polars as pl\n",
    "pl.show_versions()"
   ]
  },
  {
   "cell_type": "markdown",
   "id": "5d8d9012",
   "metadata": {},
   "source": [
    "## Expressions by Example"
   ]
  },
  {
   "cell_type": "code",
   "execution_count": 2,
   "id": "dc20b1ac",
   "metadata": {},
   "outputs": [
    {
     "data": {
      "text/html": [
       "<div><style>\n",
       ".dataframe > thead > tr,\n",
       ".dataframe > tbody > tr {\n",
       "  text-align: right;\n",
       "  white-space: pre-wrap;\n",
       "}\n",
       "</style>\n",
       "<small>shape: (10, 5)</small><table border=\"1\" class=\"dataframe\"><thead><tr><th>name</th><th>weight</th><th>color</th><th>is_round</th><th>origin</th></tr><tr><td>str</td><td>i64</td><td>str</td><td>bool</td><td>str</td></tr></thead><tbody><tr><td>&quot;Avocado&quot;</td><td>200</td><td>&quot;green&quot;</td><td>false</td><td>&quot;South America&quot;</td></tr><tr><td>&quot;Banana&quot;</td><td>120</td><td>&quot;yellow&quot;</td><td>false</td><td>&quot;Asia&quot;</td></tr><tr><td>&quot;Blueberry&quot;</td><td>1</td><td>&quot;blue&quot;</td><td>false</td><td>&quot;North America&quot;</td></tr><tr><td>&quot;Cantaloupe&quot;</td><td>2500</td><td>&quot;orange&quot;</td><td>true</td><td>&quot;Africa&quot;</td></tr><tr><td>&quot;Cranberry&quot;</td><td>2</td><td>&quot;red&quot;</td><td>false</td><td>&quot;North America&quot;</td></tr><tr><td>&quot;Elderberry&quot;</td><td>1</td><td>&quot;black&quot;</td><td>false</td><td>&quot;Europe&quot;</td></tr><tr><td>&quot;Orange&quot;</td><td>130</td><td>&quot;orange&quot;</td><td>true</td><td>&quot;Asia&quot;</td></tr><tr><td>&quot;Papaya&quot;</td><td>1000</td><td>&quot;orange&quot;</td><td>false</td><td>&quot;South America&quot;</td></tr><tr><td>&quot;Peach&quot;</td><td>150</td><td>&quot;orange&quot;</td><td>true</td><td>&quot;Asia&quot;</td></tr><tr><td>&quot;Watermelon&quot;</td><td>5000</td><td>&quot;green&quot;</td><td>true</td><td>&quot;Africa&quot;</td></tr></tbody></table></div>"
      ],
      "text/plain": [
       "shape: (10, 5)\n",
       "┌────────────┬────────┬────────┬──────────┬───────────────┐\n",
       "│ name       ┆ weight ┆ color  ┆ is_round ┆ origin        │\n",
       "│ ---        ┆ ---    ┆ ---    ┆ ---      ┆ ---           │\n",
       "│ str        ┆ i64    ┆ str    ┆ bool     ┆ str           │\n",
       "╞════════════╪════════╪════════╪══════════╪═══════════════╡\n",
       "│ Avocado    ┆ 200    ┆ green  ┆ false    ┆ South America │\n",
       "│ Banana     ┆ 120    ┆ yellow ┆ false    ┆ Asia          │\n",
       "│ Blueberry  ┆ 1      ┆ blue   ┆ false    ┆ North America │\n",
       "│ Cantaloupe ┆ 2500   ┆ orange ┆ true     ┆ Africa        │\n",
       "│ Cranberry  ┆ 2      ┆ red    ┆ false    ┆ North America │\n",
       "│ Elderberry ┆ 1      ┆ black  ┆ false    ┆ Europe        │\n",
       "│ Orange     ┆ 130    ┆ orange ┆ true     ┆ Asia          │\n",
       "│ Papaya     ┆ 1000   ┆ orange ┆ false    ┆ South America │\n",
       "│ Peach      ┆ 150    ┆ orange ┆ true     ┆ Asia          │\n",
       "│ Watermelon ┆ 5000   ┆ green  ┆ true     ┆ Africa        │\n",
       "└────────────┴────────┴────────┴──────────┴───────────────┘"
      ]
     },
     "execution_count": 2,
     "metadata": {},
     "output_type": "execute_result"
    }
   ],
   "source": [
    "fruit = pl.read_csv(\"data/fruit.csv\")\n",
    "fruit"
   ]
  },
  {
   "cell_type": "markdown",
   "id": "470c4c0b",
   "metadata": {},
   "source": [
    "### Selecting Columns with Expressions"
   ]
  },
  {
   "cell_type": "code",
   "execution_count": 3,
   "id": "9efe9ecf",
   "metadata": {},
   "outputs": [
    {
     "data": {
      "text/html": [
       "<div><style>\n",
       ".dataframe > thead > tr,\n",
       ".dataframe > tbody > tr {\n",
       "  text-align: right;\n",
       "  white-space: pre-wrap;\n",
       "}\n",
       "</style>\n",
       "<small>shape: (10, 5)</small><table border=\"1\" class=\"dataframe\"><thead><tr><th>name</th><th>color</th><th>origin</th><th>weight</th><th>is_round</th></tr><tr><td>str</td><td>str</td><td>str</td><td>f64</td><td>bool</td></tr></thead><tbody><tr><td>&quot;Avocado&quot;</td><td>&quot;green&quot;</td><td>&quot;South America&quot;</td><td>0.2</td><td>false</td></tr><tr><td>&quot;Banana&quot;</td><td>&quot;yellow&quot;</td><td>&quot;Asia&quot;</td><td>0.12</td><td>false</td></tr><tr><td>&quot;Blueberry&quot;</td><td>&quot;blue&quot;</td><td>&quot;North America&quot;</td><td>0.001</td><td>false</td></tr><tr><td>&quot;Cantaloupe&quot;</td><td>&quot;orange&quot;</td><td>&quot;Africa&quot;</td><td>2.5</td><td>true</td></tr><tr><td>&quot;Cranberry&quot;</td><td>&quot;red&quot;</td><td>&quot;North America&quot;</td><td>0.002</td><td>false</td></tr><tr><td>&quot;Elderberry&quot;</td><td>&quot;black&quot;</td><td>&quot;Europe&quot;</td><td>0.001</td><td>false</td></tr><tr><td>&quot;Orange&quot;</td><td>&quot;orange&quot;</td><td>&quot;Asia&quot;</td><td>0.13</td><td>true</td></tr><tr><td>&quot;Papaya&quot;</td><td>&quot;orange&quot;</td><td>&quot;South America&quot;</td><td>1.0</td><td>false</td></tr><tr><td>&quot;Peach&quot;</td><td>&quot;orange&quot;</td><td>&quot;Asia&quot;</td><td>0.15</td><td>true</td></tr><tr><td>&quot;Watermelon&quot;</td><td>&quot;green&quot;</td><td>&quot;Africa&quot;</td><td>5.0</td><td>true</td></tr></tbody></table></div>"
      ],
      "text/plain": [
       "shape: (10, 5)\n",
       "┌────────────┬────────┬───────────────┬────────┬──────────┐\n",
       "│ name       ┆ color  ┆ origin        ┆ weight ┆ is_round │\n",
       "│ ---        ┆ ---    ┆ ---           ┆ ---    ┆ ---      │\n",
       "│ str        ┆ str    ┆ str           ┆ f64    ┆ bool     │\n",
       "╞════════════╪════════╪═══════════════╪════════╪══════════╡\n",
       "│ Avocado    ┆ green  ┆ South America ┆ 0.2    ┆ false    │\n",
       "│ Banana     ┆ yellow ┆ Asia          ┆ 0.12   ┆ false    │\n",
       "│ Blueberry  ┆ blue   ┆ North America ┆ 0.001  ┆ false    │\n",
       "│ Cantaloupe ┆ orange ┆ Africa        ┆ 2.5    ┆ true     │\n",
       "│ Cranberry  ┆ red    ┆ North America ┆ 0.002  ┆ false    │\n",
       "│ Elderberry ┆ black  ┆ Europe        ┆ 0.001  ┆ false    │\n",
       "│ Orange     ┆ orange ┆ Asia          ┆ 0.13   ┆ true     │\n",
       "│ Papaya     ┆ orange ┆ South America ┆ 1.0    ┆ false    │\n",
       "│ Peach      ┆ orange ┆ Asia          ┆ 0.15   ┆ true     │\n",
       "│ Watermelon ┆ green  ┆ Africa        ┆ 5.0    ┆ true     │\n",
       "└────────────┴────────┴───────────────┴────────┴──────────┘"
      ]
     },
     "execution_count": 3,
     "metadata": {},
     "output_type": "execute_result"
    }
   ],
   "source": [
    "fruit.select(\n",
    "    pl.col(\"name\"), \n",
    "    pl.col(\"^.*or.*$\"), \n",
    "    pl.col(\"weight\") / 1000,\n",
    "    \"is_round\"\n",
    ")"
   ]
  },
  {
   "cell_type": "markdown",
   "id": "f92adc4d",
   "metadata": {},
   "source": [
    "### Creating New Columns with Expressions"
   ]
  },
  {
   "cell_type": "code",
   "execution_count": 4,
   "id": "768bd9e2",
   "metadata": {},
   "outputs": [
    {
     "data": {
      "text/html": [
       "<div><style>\n",
       ".dataframe > thead > tr,\n",
       ".dataframe > tbody > tr {\n",
       "  text-align: right;\n",
       "  white-space: pre-wrap;\n",
       "}\n",
       "</style>\n",
       "<small>shape: (10, 7)</small><table border=\"1\" class=\"dataframe\"><thead><tr><th>name</th><th>weight</th><th>color</th><th>is_round</th><th>origin</th><th>is_fruit</th><th>is_berry</th></tr><tr><td>str</td><td>i64</td><td>str</td><td>bool</td><td>str</td><td>bool</td><td>bool</td></tr></thead><tbody><tr><td>&quot;Avocado&quot;</td><td>200</td><td>&quot;green&quot;</td><td>false</td><td>&quot;South America&quot;</td><td>true</td><td>false</td></tr><tr><td>&quot;Banana&quot;</td><td>120</td><td>&quot;yellow&quot;</td><td>false</td><td>&quot;Asia&quot;</td><td>true</td><td>false</td></tr><tr><td>&quot;Blueberry&quot;</td><td>1</td><td>&quot;blue&quot;</td><td>false</td><td>&quot;North America&quot;</td><td>true</td><td>true</td></tr><tr><td>&quot;Cantaloupe&quot;</td><td>2500</td><td>&quot;orange&quot;</td><td>true</td><td>&quot;Africa&quot;</td><td>true</td><td>false</td></tr><tr><td>&quot;Cranberry&quot;</td><td>2</td><td>&quot;red&quot;</td><td>false</td><td>&quot;North America&quot;</td><td>true</td><td>true</td></tr><tr><td>&quot;Elderberry&quot;</td><td>1</td><td>&quot;black&quot;</td><td>false</td><td>&quot;Europe&quot;</td><td>true</td><td>true</td></tr><tr><td>&quot;Orange&quot;</td><td>130</td><td>&quot;orange&quot;</td><td>true</td><td>&quot;Asia&quot;</td><td>true</td><td>false</td></tr><tr><td>&quot;Papaya&quot;</td><td>1000</td><td>&quot;orange&quot;</td><td>false</td><td>&quot;South America&quot;</td><td>true</td><td>false</td></tr><tr><td>&quot;Peach&quot;</td><td>150</td><td>&quot;orange&quot;</td><td>true</td><td>&quot;Asia&quot;</td><td>true</td><td>false</td></tr><tr><td>&quot;Watermelon&quot;</td><td>5000</td><td>&quot;green&quot;</td><td>true</td><td>&quot;Africa&quot;</td><td>true</td><td>false</td></tr></tbody></table></div>"
      ],
      "text/plain": [
       "shape: (10, 7)\n",
       "┌────────────┬────────┬────────┬──────────┬───────────────┬──────────┬──────────┐\n",
       "│ name       ┆ weight ┆ color  ┆ is_round ┆ origin        ┆ is_fruit ┆ is_berry │\n",
       "│ ---        ┆ ---    ┆ ---    ┆ ---      ┆ ---           ┆ ---      ┆ ---      │\n",
       "│ str        ┆ i64    ┆ str    ┆ bool     ┆ str           ┆ bool     ┆ bool     │\n",
       "╞════════════╪════════╪════════╪══════════╪═══════════════╪══════════╪══════════╡\n",
       "│ Avocado    ┆ 200    ┆ green  ┆ false    ┆ South America ┆ true     ┆ false    │\n",
       "│ Banana     ┆ 120    ┆ yellow ┆ false    ┆ Asia          ┆ true     ┆ false    │\n",
       "│ Blueberry  ┆ 1      ┆ blue   ┆ false    ┆ North America ┆ true     ┆ true     │\n",
       "│ Cantaloupe ┆ 2500   ┆ orange ┆ true     ┆ Africa        ┆ true     ┆ false    │\n",
       "│ Cranberry  ┆ 2      ┆ red    ┆ false    ┆ North America ┆ true     ┆ true     │\n",
       "│ Elderberry ┆ 1      ┆ black  ┆ false    ┆ Europe        ┆ true     ┆ true     │\n",
       "│ Orange     ┆ 130    ┆ orange ┆ true     ┆ Asia          ┆ true     ┆ false    │\n",
       "│ Papaya     ┆ 1000   ┆ orange ┆ false    ┆ South America ┆ true     ┆ false    │\n",
       "│ Peach      ┆ 150    ┆ orange ┆ true     ┆ Asia          ┆ true     ┆ false    │\n",
       "│ Watermelon ┆ 5000   ┆ green  ┆ true     ┆ Africa        ┆ true     ┆ false    │\n",
       "└────────────┴────────┴────────┴──────────┴───────────────┴──────────┴──────────┘"
      ]
     },
     "execution_count": 4,
     "metadata": {},
     "output_type": "execute_result"
    }
   ],
   "source": [
    "fruit.with_columns(\n",
    "    pl.lit(True).alias(\"is_fruit\"),\n",
    "    pl.col(\"name\").str.ends_with(\"berry\").alias(\"is_berry\") \n",
    ")"
   ]
  },
  {
   "cell_type": "markdown",
   "id": "295608ab",
   "metadata": {},
   "source": [
    "### Filtering Rows with Expressions"
   ]
  },
  {
   "cell_type": "code",
   "execution_count": 5,
   "id": "d0ebd750",
   "metadata": {},
   "outputs": [
    {
     "data": {
      "text/html": [
       "<div><style>\n",
       ".dataframe > thead > tr,\n",
       ".dataframe > tbody > tr {\n",
       "  text-align: right;\n",
       "  white-space: pre-wrap;\n",
       "}\n",
       "</style>\n",
       "<small>shape: (2, 5)</small><table border=\"1\" class=\"dataframe\"><thead><tr><th>name</th><th>weight</th><th>color</th><th>is_round</th><th>origin</th></tr><tr><td>str</td><td>i64</td><td>str</td><td>bool</td><td>str</td></tr></thead><tbody><tr><td>&quot;Cantaloupe&quot;</td><td>2500</td><td>&quot;orange&quot;</td><td>true</td><td>&quot;Africa&quot;</td></tr><tr><td>&quot;Watermelon&quot;</td><td>5000</td><td>&quot;green&quot;</td><td>true</td><td>&quot;Africa&quot;</td></tr></tbody></table></div>"
      ],
      "text/plain": [
       "shape: (2, 5)\n",
       "┌────────────┬────────┬────────┬──────────┬────────┐\n",
       "│ name       ┆ weight ┆ color  ┆ is_round ┆ origin │\n",
       "│ ---        ┆ ---    ┆ ---    ┆ ---      ┆ ---    │\n",
       "│ str        ┆ i64    ┆ str    ┆ bool     ┆ str    │\n",
       "╞════════════╪════════╪════════╪══════════╪════════╡\n",
       "│ Cantaloupe ┆ 2500   ┆ orange ┆ true     ┆ Africa │\n",
       "│ Watermelon ┆ 5000   ┆ green  ┆ true     ┆ Africa │\n",
       "└────────────┴────────┴────────┴──────────┴────────┘"
      ]
     },
     "execution_count": 5,
     "metadata": {},
     "output_type": "execute_result"
    }
   ],
   "source": [
    "fruit.filter(\n",
    "    pl.col(\"is_round\") & (pl.col(\"weight\") > 1000) \n",
    ")"
   ]
  },
  {
   "cell_type": "markdown",
   "id": "6c431c20",
   "metadata": {},
   "source": [
    "### Aggregating with Expressions"
   ]
  },
  {
   "cell_type": "code",
   "execution_count": 6,
   "id": "18601bcc",
   "metadata": {},
   "outputs": [
    {
     "data": {
      "text/html": [
       "<div><style>\n",
       ".dataframe > thead > tr,\n",
       ".dataframe > tbody > tr {\n",
       "  text-align: right;\n",
       "  white-space: pre-wrap;\n",
       "}\n",
       "</style>\n",
       "<small>shape: (4, 3)</small><table border=\"1\" class=\"dataframe\"><thead><tr><th>origin</th><th>len</th><th>average_weight</th></tr><tr><td>str</td><td>u32</td><td>f64</td></tr></thead><tbody><tr><td>&quot;Africa&quot;</td><td>2</td><td>3750.0</td></tr><tr><td>&quot;Asia&quot;</td><td>3</td><td>133.333333</td></tr><tr><td>&quot;Europe&quot;</td><td>1</td><td>1.0</td></tr><tr><td>&quot;America&quot;</td><td>4</td><td>300.75</td></tr></tbody></table></div>"
      ],
      "text/plain": [
       "shape: (4, 3)\n",
       "┌─────────┬─────┬────────────────┐\n",
       "│ origin  ┆ len ┆ average_weight │\n",
       "│ ---     ┆ --- ┆ ---            │\n",
       "│ str     ┆ u32 ┆ f64            │\n",
       "╞═════════╪═════╪════════════════╡\n",
       "│ Africa  ┆ 2   ┆ 3750.0         │\n",
       "│ Asia    ┆ 3   ┆ 133.333333     │\n",
       "│ Europe  ┆ 1   ┆ 1.0            │\n",
       "│ America ┆ 4   ┆ 300.75         │\n",
       "└─────────┴─────┴────────────────┘"
      ]
     },
     "execution_count": 6,
     "metadata": {},
     "output_type": "execute_result"
    }
   ],
   "source": [
    "fruit.group_by(\n",
    "    pl.col(\"origin\").str.split(\" \").list.last()  \n",
    ").agg(\n",
    "    pl.len(),\n",
    "    pl.col(\"weight\").mean().alias(\"average_weight\")\n",
    ")"
   ]
  },
  {
   "cell_type": "markdown",
   "id": "f09e692a",
   "metadata": {},
   "source": [
    "### Sorting Rows with Expressions"
   ]
  },
  {
   "cell_type": "code",
   "execution_count": 7,
   "id": "ca299cc0",
   "metadata": {},
   "outputs": [
    {
     "data": {
      "text/html": [
       "<div><style>\n",
       ".dataframe > thead > tr,\n",
       ".dataframe > tbody > tr {\n",
       "  text-align: right;\n",
       "  white-space: pre-wrap;\n",
       "}\n",
       "</style>\n",
       "<small>shape: (10, 5)</small><table border=\"1\" class=\"dataframe\"><thead><tr><th>name</th><th>weight</th><th>color</th><th>is_round</th><th>origin</th></tr><tr><td>str</td><td>i64</td><td>str</td><td>bool</td><td>str</td></tr></thead><tbody><tr><td>&quot;Cantaloupe&quot;</td><td>2500</td><td>&quot;orange&quot;</td><td>true</td><td>&quot;Africa&quot;</td></tr><tr><td>&quot;Elderberry&quot;</td><td>1</td><td>&quot;black&quot;</td><td>false</td><td>&quot;Europe&quot;</td></tr><tr><td>&quot;Watermelon&quot;</td><td>5000</td><td>&quot;green&quot;</td><td>true</td><td>&quot;Africa&quot;</td></tr><tr><td>&quot;Blueberry&quot;</td><td>1</td><td>&quot;blue&quot;</td><td>false</td><td>&quot;North America&quot;</td></tr><tr><td>&quot;Cranberry&quot;</td><td>2</td><td>&quot;red&quot;</td><td>false</td><td>&quot;North America&quot;</td></tr><tr><td>&quot;Avocado&quot;</td><td>200</td><td>&quot;green&quot;</td><td>false</td><td>&quot;South America&quot;</td></tr><tr><td>&quot;Banana&quot;</td><td>120</td><td>&quot;yellow&quot;</td><td>false</td><td>&quot;Asia&quot;</td></tr><tr><td>&quot;Orange&quot;</td><td>130</td><td>&quot;orange&quot;</td><td>true</td><td>&quot;Asia&quot;</td></tr><tr><td>&quot;Papaya&quot;</td><td>1000</td><td>&quot;orange&quot;</td><td>false</td><td>&quot;South America&quot;</td></tr><tr><td>&quot;Peach&quot;</td><td>150</td><td>&quot;orange&quot;</td><td>true</td><td>&quot;Asia&quot;</td></tr></tbody></table></div>"
      ],
      "text/plain": [
       "shape: (10, 5)\n",
       "┌────────────┬────────┬────────┬──────────┬───────────────┐\n",
       "│ name       ┆ weight ┆ color  ┆ is_round ┆ origin        │\n",
       "│ ---        ┆ ---    ┆ ---    ┆ ---      ┆ ---           │\n",
       "│ str        ┆ i64    ┆ str    ┆ bool     ┆ str           │\n",
       "╞════════════╪════════╪════════╪══════════╪═══════════════╡\n",
       "│ Cantaloupe ┆ 2500   ┆ orange ┆ true     ┆ Africa        │\n",
       "│ Elderberry ┆ 1      ┆ black  ┆ false    ┆ Europe        │\n",
       "│ Watermelon ┆ 5000   ┆ green  ┆ true     ┆ Africa        │\n",
       "│ Blueberry  ┆ 1      ┆ blue   ┆ false    ┆ North America │\n",
       "│ Cranberry  ┆ 2      ┆ red    ┆ false    ┆ North America │\n",
       "│ Avocado    ┆ 200    ┆ green  ┆ false    ┆ South America │\n",
       "│ Banana     ┆ 120    ┆ yellow ┆ false    ┆ Asia          │\n",
       "│ Orange     ┆ 130    ┆ orange ┆ true     ┆ Asia          │\n",
       "│ Papaya     ┆ 1000   ┆ orange ┆ false    ┆ South America │\n",
       "│ Peach      ┆ 150    ┆ orange ┆ true     ┆ Asia          │\n",
       "└────────────┴────────┴────────┴──────────┴───────────────┘"
      ]
     },
     "execution_count": 7,
     "metadata": {},
     "output_type": "execute_result"
    }
   ],
   "source": [
    "fruit.sort(\n",
    "    pl.col(\"name\").str.len_bytes(),\n",
    "    descending=True\n",
    ")"
   ]
  },
  {
   "cell_type": "markdown",
   "id": "137ba7c6",
   "metadata": {},
   "source": [
    "## So What Exactly Is an Expression?\n",
    "\n",
    "> An expression is a tree of operations that describe how to construct one\n",
    "or more Series."
   ]
  },
  {
   "cell_type": "markdown",
   "id": "9439e2ba-259c-4b5a-a7e0-6115e86ef35f",
   "metadata": {},
   "source": [
    "## Fin."
   ]
  },
  {
   "cell_type": "code",
   "execution_count": null,
   "id": "3ea0a342-621d-4654-a3af-ad1550909320",
   "metadata": {},
   "outputs": [],
   "source": []
  }
 ],
 "metadata": {
  "kernelspec": {
   "display_name": "Python 3 (ipykernel)",
   "language": "python",
   "name": "python3"
  },
  "language_info": {
   "codemirror_mode": {
    "name": "ipython",
    "version": 3
   },
   "file_extension": ".py",
   "mimetype": "text/x-python",
   "name": "python",
   "nbconvert_exporter": "python",
   "pygments_lexer": "ipython3",
   "version": "3.12.3"
  }
 },
 "nbformat": 4,
 "nbformat_minor": 5
}

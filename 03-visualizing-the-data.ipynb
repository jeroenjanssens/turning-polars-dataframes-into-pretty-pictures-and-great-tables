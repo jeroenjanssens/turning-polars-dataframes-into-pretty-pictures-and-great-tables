{
 "cells": [
  {
   "cell_type": "markdown",
   "id": "4396fd4f",
   "metadata": {},
   "source": [
    "# Visualizing the Data"
   ]
  },
  {
   "cell_type": "code",
   "execution_count": null,
   "id": "3ad5c956",
   "metadata": {},
   "outputs": [],
   "source": [
    "import polars as pl\n",
    "pl.show_versions()\n",
    "%xmode minimal"
   ]
  },
  {
   "cell_type": "markdown",
   "id": "8ad84ae3",
   "metadata": {},
   "source": [
    "## NYC Bike Trips"
   ]
  },
  {
   "cell_type": "code",
   "execution_count": null,
   "id": "b31de3d5",
   "metadata": {},
   "outputs": [],
   "source": [
    "trips = pl.read_parquet(\"data/biketrips/*.parquet\")\n",
    "trips"
   ]
  },
  {
   "cell_type": "markdown",
   "id": "12865f5d-5c67-4b00-be5e-84404ce97e56",
   "metadata": {},
   "source": [
    "### Remove non-trips"
   ]
  },
  {
   "cell_type": "code",
   "execution_count": null,
   "id": "8dccf9e7",
   "metadata": {},
   "outputs": [],
   "source": [
    "trips = trips.filter(\n",
    "    ~((pl.col(\"station_start\") == pl.col(\"station_end\")) &\n",
    "    (pl.col(\"duration\").dt.total_seconds() < 5*60))\n",
    ")\n",
    "trips.height"
   ]
  },
  {
   "cell_type": "markdown",
   "id": "b5565f53",
   "metadata": {},
   "source": [
    "## hvPlot"
   ]
  },
  {
   "cell_type": "markdown",
   "id": "7feda30d-f2d7-442a-b648-215a4471b8bb",
   "metadata": {},
   "source": [
    "![](images/hvplot-overview.png)"
   ]
  },
  {
   "cell_type": "markdown",
   "id": "61f7dc14",
   "metadata": {},
   "source": [
    "### A First Plot"
   ]
  },
  {
   "cell_type": "code",
   "execution_count": null,
   "id": "45ed183b",
   "metadata": {},
   "outputs": [],
   "source": [
    "trips_speed = (\n",
    "    trips\n",
    "    .filter(pl.col(\"station_start\") == \"W 21 St & 6 Ave\")\n",
    "    .select(  \n",
    "        pl.col(\"distance\"),\n",
    "        pl.col(\"duration\").dt.total_seconds() / 3600,  # better than total_minutes()\n",
    "        pl.col(\"bike_type\"),\n",
    "        pl.col(\"borough_end\")\n",
    "    )\n",
    ")\n",
    "trips_speed"
   ]
  },
  {
   "cell_type": "code",
   "execution_count": null,
   "id": "ea27337b-51d8-4e1b-bd43-1d04758707c2",
   "metadata": {},
   "outputs": [],
   "source": [
    "trips_agg = trips.group_by(\"borough_start\").agg(\n",
    "    pl.col(\"distance\").mean(),\n",
    "pl.col(\"duration\").mean().dt.total_seconds() / 3600)"
   ]
  },
  {
   "cell_type": "code",
   "execution_count": null,
   "id": "486cbece-15f5-44bc-9ae4-22b87e3a3c75",
   "metadata": {},
   "outputs": [],
   "source": [
    "trips_agg"
   ]
  },
  {
   "cell_type": "code",
   "execution_count": null,
   "id": "95e55eab-e196-499a-be71-8c3e690833ff",
   "metadata": {},
   "outputs": [],
   "source": [
    "trips_agg.plot.scatter(x=\"distance\", y=\"duration\",\n",
    "                         xlabel=\"distance (km)\", ylabel=\"duration (h)\", size=20,\n",
    "                         ylim=(0, 2))"
   ]
  },
  {
   "cell_type": "code",
   "execution_count": null,
   "id": "a7c7378e",
   "metadata": {},
   "outputs": [],
   "source": [
    "trips_speed.plot.hexbin(x=\"distance\", y=\"duration\", color=\"bike_type\",\n",
    "                         xlabel=\"distance (km)\", ylabel=\"duration (h)\",\n",
    "                         ylim=(0, 2)) +\\\n",
    "trips_agg.plot.scatter(x=\"distance\", y=\"duration\", color=\"red\",\n",
    "                         xlabel=\"distance (km)\", ylabel=\"duration (h)\", size=20,\n",
    "                         ylim=(0, 2))"
   ]
  },
  {
   "cell_type": "markdown",
   "id": "3db3a915-7a38-4a6c-a11b-5481dda1f3cc",
   "metadata": {},
   "source": [
    "### GroupBy widget"
   ]
  },
  {
   "cell_type": "code",
   "execution_count": null,
   "id": "a6fb6a50-471d-4440-aef5-95132789734b",
   "metadata": {},
   "outputs": [],
   "source": [
    "trips_speed.plot.scatter(x=\"distance\", y=\"duration\", color=\"bike_type\",\n",
    "                         xlabel=\"distance (km)\", ylabel=\"duration (h)\",\n",
    "                         ylim=(0, 2), groupby=\"borough_end\")"
   ]
  },
  {
   "cell_type": "markdown",
   "id": "b328f549",
   "metadata": {},
   "source": [
    "### Methods in the Plot Namespace\n",
    "\n",
    "* `df.plot.area()`: Plots a area chart similar to a line chart except for filling the area under the curve and optionally stacking.\n",
    "* `df.plot.bar()`: Plots a bar chart that can be stacked or grouped.\n",
    "* `df.plot.bivariate()`: Plots 2D density of a set of points.\n",
    "* `df.plot.box()`: Plots a box-whisker chart comparing the distribution of one or more variables.\n",
    "* `df.plot.density()`: Plots the kernel density estimate of one or more variables.\n",
    "* `df.plot.heatmap()`: Plots a heatmap to visualizing a variable across two independent dimensions.\n",
    "* `df.plot.hexbins()`: Plots hex bins.\n",
    "* `df.plot.hist()`: Plots the distribution of one or histograms as a set of bins.\n",
    "* `df.plot.line()`: Plots a line chart (such as for a time series).\n",
    "* `df.plot.scatter()`: Plots a scatter chart comparing two variables.\n",
    "* `df.plot.violin()`: Plots a violin plot comparing the distribution of one or more variables using the kernel density estimate.\n"
   ]
  },
  {
   "cell_type": "code",
   "execution_count": null,
   "id": "e54b8cd3-ab69-4e36-b0a5-52a9f63635ac",
   "metadata": {},
   "outputs": [],
   "source": [
    "# trips.plot.<TAB>"
   ]
  },
  {
   "cell_type": "markdown",
   "id": "2ee99973",
   "metadata": {},
   "source": [
    "### Getting Help for a Method"
   ]
  },
  {
   "cell_type": "code",
   "execution_count": null,
   "id": "ce26ca5a-effa-4c0d-b45a-60dff7a0da9d",
   "metadata": {
    "scrolled": true
   },
   "outputs": [],
   "source": [
    "?trips.plot.scatter"
   ]
  },
  {
   "cell_type": "code",
   "execution_count": null,
   "id": "5b9de595-7c23-4af2-a479-0bede32bedf7",
   "metadata": {
    "scrolled": true
   },
   "outputs": [],
   "source": [
    "import hvplot\n",
    "\n",
    "hvplot.help(\"scatter\", generic=False, style=False)"
   ]
  },
  {
   "cell_type": "markdown",
   "id": "b7b69b6c",
   "metadata": {},
   "source": [
    "### Pandas as Backup"
   ]
  },
  {
   "cell_type": "code",
   "execution_count": null,
   "id": "524e9e06",
   "metadata": {},
   "outputs": [],
   "source": [
    "trips_per_day_hour = (\n",
    "    trips\n",
    "    .sort(\"datetime_start\")\n",
    "    .group_by_dynamic(\"datetime_start\", every=\"1h\")\n",
    "    .agg(pl.len())\n",
    ")\n",
    "\n",
    "# Produces error: trips_per_day_hour.plot.heatmap(x='datetime_start.hour', y='datetime_start.day', C='len', cmap='reds')"
   ]
  },
  {
   "cell_type": "code",
   "execution_count": null,
   "id": "aea37ea0",
   "metadata": {},
   "outputs": [],
   "source": [
    "import hvplot.pandas\n",
    "trips_per_day_hour.to_pandas().hvplot.heatmap(x='datetime_start.hour', y='datetime_start.day', C='len', cmap='reds')"
   ]
  },
  {
   "cell_type": "markdown",
   "id": "2aa3a983",
   "metadata": {},
   "source": [
    "### Manual Transformations"
   ]
  },
  {
   "cell_type": "code",
   "execution_count": null,
   "id": "bdd84c5e",
   "metadata": {},
   "outputs": [],
   "source": [
    "trips_type_counts = trips.group_by(\"rider_type\", \"bike_type\").len()\n",
    "trips_type_counts"
   ]
  },
  {
   "cell_type": "code",
   "execution_count": null,
   "id": "51699374",
   "metadata": {},
   "outputs": [],
   "source": [
    "trips_type_counts.plot.bar(x=\"rider_type\", y=\"len\", by=\"bike_type\",\n",
    "                           ylabel=\"count\", stacked=True,\n",
    "                           color=[\"orange\", \"green\"])"
   ]
  },
  {
   "cell_type": "markdown",
   "id": "8615961e",
   "metadata": {},
   "source": [
    "### Changing the Plotting Backend"
   ]
  },
  {
   "cell_type": "code",
   "execution_count": null,
   "id": "f1607213",
   "metadata": {},
   "outputs": [],
   "source": [
    "import hvplot\n",
    "hvplot.extension(\"matplotlib\")"
   ]
  },
  {
   "cell_type": "code",
   "execution_count": null,
   "id": "8ed95298-0395-4429-bfaa-b8c942ee81b8",
   "metadata": {},
   "outputs": [],
   "source": [
    "trips_type_counts.plot.bar(x=\"rider_type\", y=\"len\", by=\"bike_type\",\n",
    "                           ylabel=\"count\", stacked=True,\n",
    "                           color=[\"orange\", \"green\"])"
   ]
  },
  {
   "cell_type": "code",
   "execution_count": null,
   "id": "e6d87c67-b2dd-4f4e-8f67-93f0ea759944",
   "metadata": {},
   "outputs": [],
   "source": [
    "plot = trips_type_counts.plot.bar(x=\"rider_type\", y=\"len\", by=\"bike_type\",\n",
    "                           ylabel=\"count\", stacked=True,\n",
    "                           color=[\"orange\", \"green\"])"
   ]
  },
  {
   "cell_type": "code",
   "execution_count": null,
   "id": "7385e2e2-ab73-43ad-b464-0ab5af2acc74",
   "metadata": {},
   "outputs": [],
   "source": [
    "type(plot)"
   ]
  },
  {
   "cell_type": "code",
   "execution_count": null,
   "id": "6c2af506-a615-422c-9afa-2a7c10d685e1",
   "metadata": {},
   "outputs": [],
   "source": [
    "hvplot.render(plot, backend=\"matplotlib\")"
   ]
  },
  {
   "cell_type": "code",
   "execution_count": null,
   "id": "783eb520-06bb-4bf8-a051-2b2c172fca90",
   "metadata": {},
   "outputs": [],
   "source": [
    "%matplotlib inline"
   ]
  },
  {
   "cell_type": "code",
   "execution_count": null,
   "id": "39fb9cc6-1eb6-4457-bd21-fa732338c6c9",
   "metadata": {},
   "outputs": [],
   "source": [
    "?hvplot.render?"
   ]
  },
  {
   "cell_type": "code",
   "execution_count": null,
   "id": "ecb8db3d-0066-4392-b80d-4bebe9c54ed7",
   "metadata": {},
   "outputs": [],
   "source": [
    "hvplot.render(plot, backend=\"matplotlib\")"
   ]
  },
  {
   "cell_type": "code",
   "execution_count": null,
   "id": "106ddfe3",
   "metadata": {},
   "outputs": [],
   "source": [
    "hvplot.extension(\"bokeh\")"
   ]
  },
  {
   "cell_type": "markdown",
   "id": "4598c26e",
   "metadata": {},
   "source": [
    "### Plotting Points on a Map"
   ]
  },
  {
   "cell_type": "code",
   "execution_count": null,
   "id": "ca3a7f0c",
   "metadata": {},
   "outputs": [],
   "source": [
    "trips.plot.scatter(x='lon_start', y='lat_start', color='borough_start',\n",
    "                   width=600, height=600)"
   ]
  },
  {
   "cell_type": "code",
   "execution_count": null,
   "id": "a240fba2",
   "metadata": {},
   "outputs": [],
   "source": [
    "trips.plot.points(x=\"lon_start\", y=\"lat_start\",\n",
    "                  datashade=True, geo=True,\n",
    "                  tiles=\"CartoLight\",\n",
    "                  width=800, height=600)"
   ]
  },
  {
   "cell_type": "markdown",
   "id": "ef180012",
   "metadata": {},
   "source": [
    "## Alternatives"
   ]
  },
  {
   "cell_type": "markdown",
   "id": "84cecca0",
   "metadata": {},
   "source": [
    "### HoloViews"
   ]
  },
  {
   "cell_type": "code",
   "execution_count": null,
   "id": "b93b7e24",
   "metadata": {},
   "outputs": [],
   "source": [
    "import holoviews as hv\n",
    "hv.extension(\"bokeh\")"
   ]
  },
  {
   "cell_type": "code",
   "execution_count": null,
   "id": "4f8a21d2",
   "metadata": {},
   "outputs": [],
   "source": [
    "boroughs = (\n",
    "    trips\n",
    "    .select(pl.col(\"borough_start\").alias(\"name\"))\n",
    "    .unique()\n",
    "    .sort(\"name\")\n",
    "    .with_row_index()\n",
    ")\n",
    "boroughs"
   ]
  },
  {
   "cell_type": "code",
   "execution_count": null,
   "id": "90500d1e",
   "metadata": {},
   "outputs": [],
   "source": [
    "trips_flow = (\n",
    "    trips.group_by(\"borough_start\", \"borough_end\").agg(pl.len())\n",
    "    .join(boroughs, left_on=\"borough_start\", right_on=\"name\")\n",
    "    .join(boroughs, left_on=\"borough_end\", right_on=\"name\")\n",
    "    .select(source=\"index\",\n",
    "            target=\"index_right\",\n",
    "            value=pl.col(\"len\"))\n",
    "    .filter(pl.col(\"source\") != pl.col(\"target\"))\n",
    "    .sort(\"target\", descending=False)\n",
    ")\n",
    "trips_flow"
   ]
  },
  {
   "cell_type": "code",
   "execution_count": null,
   "id": "4d743d4b",
   "metadata": {},
   "outputs": [],
   "source": [
    "ds_trips_flow = hv.Dataset(trips_flow,\n",
    "                           kdims=[\"source\", \"target\"],\n",
    "                           vdims=[\"value\"])\n",
    "\n",
    "ds_boroughs = hv.Dataset(boroughs,\n",
    "                         kdims=[\"index\"],\n",
    "                         vdims=[\"name\"])\n",
    "\n",
    "ds_trips_flow"
   ]
  },
  {
   "cell_type": "code",
   "execution_count": null,
   "id": "19e7f016",
   "metadata": {},
   "outputs": [],
   "source": [
    "hv.Chord((ds_trips_flow, ds_boroughs)).opts(\n",
    "    hv.opts.Chord(cmap='glasbey', edge_cmap='glasbey',\n",
    "                  node_color=hv.dim('index').str(),\n",
    "                  edge_color=hv.dim('source').str(),\n",
    "                  labels='name',\n",
    "                  toolbar=None,\n",
    "                  width=600, height=600))"
   ]
  },
  {
   "cell_type": "markdown",
   "id": "b4e751d2",
   "metadata": {},
   "source": [
    "### Altair"
   ]
  },
  {
   "cell_type": "code",
   "execution_count": null,
   "id": "13acec15",
   "metadata": {},
   "outputs": [],
   "source": [
    "import altair as alt"
   ]
  },
  {
   "cell_type": "code",
   "execution_count": null,
   "id": "240ec4b5",
   "metadata": {},
   "outputs": [],
   "source": [
    "trips_per_hour = (\n",
    "    trips\n",
    "    .sort(\"datetime_start\")\n",
    "    .group_by_dynamic(\"datetime_start\", group_by=\"borough_start\", every=\"1h\")\n",
    "    .agg(pl.len())\n",
    ")\n",
    "trips_per_hour"
   ]
  },
  {
   "cell_type": "code",
   "execution_count": null,
   "id": "03f78022",
   "metadata": {},
   "outputs": [],
   "source": [
    "color_condition = alt.condition(\n",
    "    \"hours(datum.value) == 12\",\n",
    "    alt.value(\"black\"),\n",
    "    alt.value(None),\n",
    ")\n",
    "\n",
    "alt.Chart(trips_per_hour, width=800, height=250).mark_rect().encode(\n",
    "    alt.X(\"yearmonthdatehours(datetime_start):O\")\n",
    "         .title(\"Day in March\")\n",
    "         .axis(\n",
    "             format=\"%-d\",\n",
    "             labelAngle=0,\n",
    "             labelOverlap=False,\n",
    "             labelColor=color_condition,\n",
    "             tickColor=color_condition,\n",
    "         ),\n",
    "    alt.Y(\"borough_start:N\").title(None),\n",
    "    alt.Color(\"len\").title(\"Number of Trips\").scale(type=\"log\")\n",
    ")"
   ]
  },
  {
   "cell_type": "markdown",
   "id": "892354b7",
   "metadata": {},
   "source": [
    "### Plotnine"
   ]
  },
  {
   "cell_type": "code",
   "execution_count": null,
   "id": "45c7c8bb",
   "metadata": {},
   "outputs": [],
   "source": [
    "from plotnine import *"
   ]
  },
  {
   "cell_type": "code",
   "execution_count": null,
   "id": "d33192d8",
   "metadata": {},
   "outputs": [],
   "source": [
    "trips_speed = (\n",
    "    trips.group_by(\"neighborhood_start\", \"neighborhood_end\").agg(\n",
    "        pl.col(\"duration\").dt.total_seconds().median() / 3600,\n",
    "        pl.col(\"distance\").median(),\n",
    "        pl.col(\"borough_start\").first(),\n",
    "        pl.col(\"borough_end\").first(),\n",
    "        pl.len(),\n",
    "    ).filter(\n",
    "        (pl.col(\"len\") > 30) &\n",
    "        (pl.col(\"distance\") > 0.2) &\n",
    "        (pl.col(\"neighborhood_start\") != pl.col(\"neighborhood_end\")),\n",
    "    ).with_columns(\n",
    "        speed=pl.col(\"distance\") / pl.col(\"duration\")\n",
    "    ).sort(\"borough_start\")\n",
    ")\n",
    "trips_speed"
   ]
  },
  {
   "cell_type": "code",
   "execution_count": null,
   "id": "028923ca-0723-4db1-96cf-6ae8232a47e5",
   "metadata": {},
   "outputs": [],
   "source": [
    "(\n",
    "    ggplot(trips_speed, aes(x=\"distance\", y=\"duration\")) +\n",
    "    geom_point(size=0.25, alpha=0.5) +\n",
    "    geom_smooth(method=\"lowess\", size=2, se=False, color=\"blue\")\n",
    ")"
   ]
  },
  {
   "cell_type": "code",
   "execution_count": null,
   "id": "4b5e9acd",
   "metadata": {},
   "outputs": [],
   "source": [
    "(\n",
    "    ggplot(trips_speed\n",
    "        .filter(pl.col(\"borough_start\") == pl.col(\"borough_end\")),\n",
    "        aes(x=\"distance\", y=\"duration\", color=\"borough_end\")) +\n",
    "    geom_point(size=0.25, alpha=0.5) +\n",
    "    geom_smooth(method=\"lowess\", size=2, se=False, alpha=0.8) +\n",
    "    scale_color_brewer(type=\"qualitative\", palette=\"Set1\") +\n",
    "    labs(title=\"Trip distance and duration within each borough\",\n",
    "         x=\"Distance (km)\", y=\"Duration (m)\", color=\"Borough\") +\n",
    "    theme_linedraw() +\n",
    "    theme(figure_size=(8, 6))\n",
    ")"
   ]
  },
  {
   "cell_type": "code",
   "execution_count": null,
   "id": "641ef71b",
   "metadata": {},
   "outputs": [],
   "source": [
    "(\n",
    "    ggplot(trips_speed\n",
    "        .filter(pl.col(\"borough_start\") != pl.col(\"borough_end\"))\n",
    "        .with_columns(\n",
    "            (\"From \" + pl.col(\"borough_start\")).alias(\"borough_start\")),\n",
    "        aes(x=\"distance\", y=\"duration\", color=\"borough_end\")) +\n",
    "    geom_point(size=0.25, alpha=0.5) +\n",
    "    geom_smooth(method=\"lowess\", size=2, se=False, alpha=0.8) +\n",
    "    scale_color_brewer(type=\"qualitative\", palette=\"Set1\") +\n",
    "    facet_wrap(\"borough_start\") +\n",
    "    labs(title=\"Trip distance and duration cross borough\",\n",
    "         x=\"Distance (km)\", y=\"Duration (m)\", color=\"To Borough\") +\n",
    "    theme_linedraw() +\n",
    "    theme(figure_size=(8, 6))\n",
    ")"
   ]
  },
  {
   "cell_type": "markdown",
   "id": "7b2558ba",
   "metadata": {},
   "source": [
    "### Great Tables"
   ]
  },
  {
   "cell_type": "markdown",
   "id": "91dbb6d7-0765-495c-a918-5ee03cce2a67",
   "metadata": {},
   "source": [
    "![](images/great-tables-compontents.png)"
   ]
  },
  {
   "cell_type": "code",
   "execution_count": null,
   "id": "1d13e249",
   "metadata": {},
   "outputs": [],
   "source": [
    "busiest_stations = (\n",
    "    trips\n",
    "    .group_by(   # <1>\n",
    "        station=pl.col(\"station_start\"),\n",
    "        date=pl.col(\"datetime_start\").dt.date()\n",
    "    )\n",
    "    .agg(\n",
    "        borough=pl.col(\"borough_start\").first(),\n",
    "        neighborhood=pl.col(\"neighborhood_start\").first(),\n",
    "        num_rides=pl.len(),\n",
    "        percent_member=(pl.col(\"rider_type\") == \"member\").mean(),\n",
    "        percent_electric=(pl.col(\"bike_type\") == \"electric\").mean()\n",
    "    )\n",
    "    .sort(\"date\")\n",
    "    .group_by(\"station\")\n",
    "    .agg(\n",
    "        pl.col(pl.String).first(),\n",
    "        pl.col(pl.NUMERIC_DTYPES).mean(),\n",
    "        pl.col(\"num_rides\").cast(pl.String).alias(\"rides_per_day\")  #<2>\n",
    "    )\n",
    "    .with_columns(pl.col(\"rides_per_day\").list.join(\" \"))\n",
    "    .sort(\"num_rides\", descending=True)\n",
    "    .group_by(\"borough\", maintain_order=True).head(3)\n",
    ")\n",
    "busiest_stations"
   ]
  },
  {
   "cell_type": "code",
   "execution_count": null,
   "id": "b18ebcf1-75e1-4bd8-b0a5-b85abd095492",
   "metadata": {},
   "outputs": [],
   "source": [
    "import polars.selectors as cs\n",
    "from great_tables import GT, style, md"
   ]
  },
  {
   "cell_type": "markdown",
   "id": "d7174dcc-b790-41e2-b26b-115f4e4f7dc5",
   "metadata": {},
   "source": [
    "### First Try"
   ]
  },
  {
   "cell_type": "code",
   "execution_count": null,
   "id": "82d29dda-24cf-47c4-afca-cf427f5b796d",
   "metadata": {},
   "outputs": [],
   "source": [
    "GT(busiest_stations.drop(\"rides_per_day\"))"
   ]
  },
  {
   "cell_type": "markdown",
   "id": "99c462fc-96c1-413d-a454-b0a1b7acdab5",
   "metadata": {},
   "source": [
    "### Add grouping"
   ]
  },
  {
   "cell_type": "code",
   "execution_count": null,
   "id": "600d1e1a-87a9-4f45-86cb-1c6cedc514ec",
   "metadata": {},
   "outputs": [],
   "source": [
    "GT(busiest_stations.drop(\"rides_per_day\"), rowname_col=\"station\", groupname_col=\"borough\")"
   ]
  },
  {
   "cell_type": "markdown",
   "id": "178c7ba3-c94d-4aad-a255-1403ba382f17",
   "metadata": {},
   "source": [
    "### Improve Column Names "
   ]
  },
  {
   "cell_type": "code",
   "execution_count": null,
   "id": "45f33eea-dd3b-4ce7-a74c-db63147d9820",
   "metadata": {},
   "outputs": [],
   "source": [
    "(\n",
    "    GT(busiest_stations.drop(\"rides_per_day\"), rowname_col=\"station\", groupname_col=\"borough\")\n",
    "    .cols_label(       \n",
    "        neighborhood=\"Neighborhood\",\n",
    "        num_rides=\"Mean Daily Rides\",\n",
    "        percent_member=\"Members\",\n",
    "        percent_electric=\"E-Bikes\",\n",
    "    )\n",
    "    .tab_stubhead(label=\"Station\")\n",
    ")"
   ]
  },
  {
   "cell_type": "markdown",
   "id": "5eb66d9b-6d89-4dd4-b982-4663405c6918",
   "metadata": {},
   "source": [
    "### Titles"
   ]
  },
  {
   "cell_type": "code",
   "execution_count": null,
   "id": "6a679892-8198-4916-ae12-fc82f9cd5bf1",
   "metadata": {},
   "outputs": [],
   "source": [
    "(\n",
    "    GT(busiest_stations.drop(\"rides_per_day\"), rowname_col=\"station\", groupname_col=\"borough\")\n",
    "    .cols_label(       \n",
    "        neighborhood=\"Neighborhood\",\n",
    "        num_rides=\"Mean Daily Rides\",\n",
    "        percent_member=\"Members\",\n",
    "        percent_electric=\"E-Bikes\",\n",
    "    )\n",
    "    .tab_header(\n",
    "        title=\"Busiest Bike Stations in NYC\",\n",
    "        subtitle=\"In March 2024, Per Borough\"\n",
    "    )\n",
    "    .tab_stubhead(label=\"Station\")\n",
    ")"
   ]
  },
  {
   "cell_type": "markdown",
   "id": "14bd3118-47fd-4b9f-835e-87df391efc2d",
   "metadata": {},
   "source": [
    "### Format numbers"
   ]
  },
  {
   "cell_type": "code",
   "execution_count": null,
   "id": "82a78599-8207-4bc8-bd04-21b80c945b5d",
   "metadata": {},
   "outputs": [],
   "source": [
    "(\n",
    "    GT(busiest_stations.drop(\"rides_per_day\"), rowname_col=\"station\", groupname_col=\"borough\")\n",
    "    .cols_label(       \n",
    "        neighborhood=\"Neighborhood\",\n",
    "        num_rides=\"Mean Daily Rides\",\n",
    "        percent_member=\"Members\",\n",
    "        percent_electric=\"E-Bikes\",\n",
    "    )\n",
    "    .tab_header(\n",
    "        title=\"Busiest Bike Stations in NYC\",\n",
    "        subtitle=\"In March 2024, Per Borough\"\n",
    "    )\n",
    "    .tab_stubhead(label=\"Station\")\n",
    "    .fmt_number(columns=\"num_rides\", decimals=1)\n",
    "    .fmt_percent(columns=cs.starts_with(\"percent_\"), decimals=0)\n",
    "    .data_color(columns=\"num_rides\", palette=\"Blues\")\n",
    ")"
   ]
  },
  {
   "cell_type": "markdown",
   "id": "66da4afb-bef0-4745-b98a-75d6781d3f79",
   "metadata": {},
   "source": [
    "### Add Nano Plots"
   ]
  },
  {
   "cell_type": "code",
   "execution_count": null,
   "id": "b839d2a6-5a40-43f0-88e8-9f140c012fff",
   "metadata": {},
   "outputs": [],
   "source": [
    "(\n",
    "    GT(busiest_stations, rowname_col=\"station\", groupname_col=\"borough\")\n",
    "    .cols_label(       \n",
    "        neighborhood=\"Neighborhood\",\n",
    "        num_rides=\"Mean Daily Rides\",\n",
    "        percent_member=\"Members\",\n",
    "        percent_electric=\"E-Bikes\",\n",
    "        rides_per_day=\"Rides Per Day\",\n",
    "    )\n",
    "    .tab_header(\n",
    "        title=\"Busiest Bike Stations in NYC\",\n",
    "        subtitle=\"In March 2024, Per Borough\"\n",
    "    )\n",
    "    .tab_stubhead(label=\"Station\")\n",
    "    .fmt_number(columns=\"num_rides\", decimals=1)\n",
    "    .fmt_percent(columns=cs.starts_with(\"percent_\"), decimals=0)\n",
    "    .fmt_nanoplot(columns=\"rides_per_day\", reference_line=\"mean\")\n",
    ")"
   ]
  },
  {
   "cell_type": "markdown",
   "id": "7fce54e7-971d-47b4-84f1-d0e4ada2c9c5",
   "metadata": {},
   "source": [
    "### Some final touches"
   ]
  },
  {
   "cell_type": "code",
   "execution_count": null,
   "id": "77b56770-4f94-40b0-8451-970d3eabe2be",
   "metadata": {},
   "outputs": [],
   "source": [
    "(\n",
    "    GT(busiest_stations, rowname_col=\"station\", groupname_col=\"borough\")\n",
    "    .cols_label(       \n",
    "        neighborhood=\"Neighborhood\",\n",
    "        num_rides=\"Mean Daily Rides\",\n",
    "        percent_member=\"Members\",\n",
    "        percent_electric=\"E-Bikes\",\n",
    "        rides_per_day=\"Rides Per Day\",\n",
    "    )\n",
    "    .tab_header(\n",
    "        title=\"Busiest Bike Stations in NYC\",\n",
    "        subtitle=\"In March 2024, Per Borough\"\n",
    "    )\n",
    "    .tab_stubhead(label=\"Station\")\n",
    "    .fmt_number(columns=\"num_rides\", decimals=1)\n",
    "    .fmt_percent(columns=cs.starts_with(\"percent_\"), decimals=0)\n",
    "    .fmt_nanoplot(columns=\"rides_per_day\", reference_line=\"mean\")\n",
    "    .data_color(columns=\"num_rides\", palette=\"Blues\")\n",
    "    .tab_options(row_group_font_weight=\"bold\")\n",
    "    .tab_source_note(source_note=md(\n",
    "        \"Source: [NYC Citi Bike](https://citibikenyc.com/system-data)\"\n",
    "    ))\n",
    ")"
   ]
  },
  {
   "cell_type": "markdown",
   "id": "90921577-5d32-490c-afa7-ae7827b5b4fc",
   "metadata": {},
   "source": [
    "## Fin."
   ]
  }
 ],
 "metadata": {
  "kernelspec": {
   "display_name": "Python 3 (ipykernel)",
   "language": "python",
   "name": "python3"
  },
  "language_info": {
   "codemirror_mode": {
    "name": "ipython",
    "version": 3
   },
   "file_extension": ".py",
   "mimetype": "text/x-python",
   "name": "python",
   "nbconvert_exporter": "python",
   "pygments_lexer": "ipython3",
   "version": "3.12.3"
  }
 },
 "nbformat": 4,
 "nbformat_minor": 5
}

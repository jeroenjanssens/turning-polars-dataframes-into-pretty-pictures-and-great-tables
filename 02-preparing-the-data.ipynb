{
 "cells": [
  {
   "cell_type": "markdown",
   "id": "b5ae90c6-4ae0-4df6-b502-b75c6df6f38e",
   "metadata": {},
   "source": [
    "# Preparing the Data\n",
    "\n",
    "Note: You can skip this notebook because all the required Parquet files are already in _data/biketrips/_."
   ]
  },
  {
   "cell_type": "markdown",
   "id": "8c71dd6a-ccfd-420a-944c-f9ee28ab7867",
   "metadata": {},
   "source": [
    "## Download the data\n",
    "\n",
    "- Download https://s3.amazonaws.com/tripdata/202403-citibike-tripdata.csv.zip (113,4 MB)\n",
    "- Unzip\n",
    "- Make sure the CSV files are in a subdirectory called _202403-citibike-tripdata.csv/_ (macOS does this by default if you \"Open\" the ZIP file)"
   ]
  },
  {
   "cell_type": "code",
   "execution_count": 1,
   "id": "4ff0fbef-2381-4d8a-85e5-5e10462077b7",
   "metadata": {},
   "outputs": [
    {
     "name": "stdout",
     "output_type": "stream",
     "text": [
      "202403-citibike-tripdata.csv/202403-citibike-tripdata_1.csv\n",
      "202403-citibike-tripdata.csv/202403-citibike-tripdata_2.csv\n",
      "202403-citibike-tripdata.csv/202403-citibike-tripdata_3.csv\n"
     ]
    }
   ],
   "source": [
    "! ls 202403-citibike-tripdata.csv/*.csv"
   ]
  },
  {
   "cell_type": "code",
   "execution_count": 2,
   "id": "1aef612a-b05c-4395-a1d6-2e5923a022c1",
   "metadata": {},
   "outputs": [
    {
     "name": "stdout",
     "output_type": "stream",
     "text": [
      "ride_id,rideable_type,started_at,ended_at,start_station_name,start_station_id,end_station_name,end_station_id,start_lat,start_lng,end_lat,end_lng,member_casual\n",
      "0FC89A53DF9D7E90,electric_bike,2024-03-07 19:49:43,2024-03-07 20:20:33,48 St & Skillman Ave,6283.05,Kingston Ave & Park Pl,4016.03,40.746153593,-73.916188598,40.67308,-73.94191,member\n",
      "0FF38F5D1277746B,electric_bike,2024-03-15 17:45:30,2024-03-15 17:55:39,Liberty St & Broadway,5105.01,Mercer St & Spring St,5532.01,40.708858728,-74.01023221,40.72362738,-73.99949601,member\n",
      "DE040AD144FB0BFA,electric_bike,2024-03-19 18:00:52,2024-03-19 18:07:26,W 56 St & 6 Ave,6809.07,E 43 St & Madison Ave,6551.11,40.76340613,-73.97722479,40.75354681867074,-73.97896572947502,member\n",
      "5C7DFD80B04BBA5A,electric_bike,2024-03-05 17:25:30,2024-03-05 17:30:17,W 56 St & 6 Ave,6809.07,E 43 St & Madison Ave,6551.11,40.763061881,-73.977671742,40.75354681867074,-73.97896572947502,member\n",
      "5C0A03B95B0D0A0F,electric_bike,2024-03-22 13:18:37,2024-03-22 13:23:24,5 Ave & W 126 St,7701.21,Frederick Douglass Blvd & W 115 St,7658.13,40.660947433333334,-73.98304271666666,40.8038654,-73.9559308,member\n",
      "6F87E826DC6091B5,classic_bike,2024-03-13 09:34:15,2024-03-13 10:04:35,6 Ave & W 45 St,6593.15,Adam Clayton Powell Blvd & W 118 St,7670.09,40.756951,-73.982631,40.804372,-73.951475,casual\n",
      "2ADE5252EF9B7ED9,electric_bike,2024-03-04 15:11:58,2024-03-04 15:25:54,Carroll St & Columbia St,4348.07,Front St & Jay St,4895.03,40.68301332,-74.00338912,40.702461,-73.986842,member\n",
      "8F3051047559102A,electric_bike,2024-03-26 11:27:34,2024-03-26 11:47:26,E 114 St & 1 Ave,7540.02,E 74 St & 1 Ave,6953.08,40.794458866,-73.935982943,40.7689738,-73.95482273,member\n",
      "E290F66810584312,electric_bike,2024-03-14 12:51:24,2024-03-14 13:01:37,Lafayette St & E 8 St,5788.13,E 45 St & 3 Ave,6464.08,40.730445027,-73.991088629,40.75255434,-73.97282625,member\n"
     ]
    }
   ],
   "source": [
    "! head 202403-citibike-tripdata.csv/202403-citibike-tripdata_1.csv"
   ]
  },
  {
   "cell_type": "code",
   "execution_count": 3,
   "id": "6b17edf1-8069-45da-a5fd-5960f78b6abf",
   "metadata": {},
   "outputs": [],
   "source": [
    "import polars as pl"
   ]
  },
  {
   "cell_type": "code",
   "execution_count": 4,
   "id": "e68579e7-c25b-4a73-996b-7d57c3b863d0",
   "metadata": {},
   "outputs": [
    {
     "data": {
      "text/html": [
       "<div><style>\n",
       ".dataframe > thead > tr,\n",
       ".dataframe > tbody > tr {\n",
       "  text-align: right;\n",
       "  white-space: pre-wrap;\n",
       "}\n",
       "</style>\n",
       "<small>shape: (2_737_881, 11)</small><table border=\"1\" class=\"dataframe\"><thead><tr><th>bike_type</th><th>rider_type</th><th>datetime_start</th><th>datetime_end</th><th>station_start</th><th>station_end</th><th>lat_start</th><th>lon_start</th><th>lat_end</th><th>lon_end</th><th>duration</th></tr><tr><td>str</td><td>str</td><td>datetime[μs]</td><td>datetime[μs]</td><td>str</td><td>str</td><td>f64</td><td>f64</td><td>f64</td><td>f64</td><td>duration[μs]</td></tr></thead><tbody><tr><td>&quot;electric&quot;</td><td>&quot;member&quot;</td><td>2024-03-07 19:49:43</td><td>2024-03-07 20:20:33</td><td>&quot;48 St &amp; Skillman Ave&quot;</td><td>&quot;Kingston Ave &amp; Park Pl&quot;</td><td>40.746154</td><td>-73.916189</td><td>40.67308</td><td>-73.94191</td><td>30m 50s</td></tr><tr><td>&quot;electric&quot;</td><td>&quot;member&quot;</td><td>2024-03-15 17:45:30</td><td>2024-03-15 17:55:39</td><td>&quot;Liberty St &amp; Broadway&quot;</td><td>&quot;Mercer St &amp; Spring St&quot;</td><td>40.708859</td><td>-74.010232</td><td>40.723627</td><td>-73.999496</td><td>10m 9s</td></tr><tr><td>&quot;electric&quot;</td><td>&quot;member&quot;</td><td>2024-03-19 18:00:52</td><td>2024-03-19 18:07:26</td><td>&quot;W 56 St &amp; 6 Ave&quot;</td><td>&quot;E 43 St &amp; Madison Ave&quot;</td><td>40.763406</td><td>-73.977225</td><td>40.753547</td><td>-73.978966</td><td>6m 34s</td></tr><tr><td>&quot;electric&quot;</td><td>&quot;member&quot;</td><td>2024-03-05 17:25:30</td><td>2024-03-05 17:30:17</td><td>&quot;W 56 St &amp; 6 Ave&quot;</td><td>&quot;E 43 St &amp; Madison Ave&quot;</td><td>40.763062</td><td>-73.977672</td><td>40.753547</td><td>-73.978966</td><td>4m 47s</td></tr><tr><td>&quot;electric&quot;</td><td>&quot;member&quot;</td><td>2024-03-22 13:18:37</td><td>2024-03-22 13:23:24</td><td>&quot;5 Ave &amp; W 126 St&quot;</td><td>&quot;Frederick Douglass Blvd &amp; W 11…</td><td>40.660947</td><td>-73.983043</td><td>40.803865</td><td>-73.955931</td><td>4m 47s</td></tr><tr><td>&hellip;</td><td>&hellip;</td><td>&hellip;</td><td>&hellip;</td><td>&hellip;</td><td>&hellip;</td><td>&hellip;</td><td>&hellip;</td><td>&hellip;</td><td>&hellip;</td><td>&hellip;</td></tr><tr><td>&quot;classic&quot;</td><td>&quot;member&quot;</td><td>2024-03-19 12:23:34</td><td>2024-03-19 12:29:24</td><td>&quot;Madison Ave &amp; E 51 St&quot;</td><td>&quot;Broadway &amp; W 56 St&quot;</td><td>40.75863</td><td>-73.97513</td><td>40.765265</td><td>-73.981923</td><td>5m 50s</td></tr><tr><td>&quot;classic&quot;</td><td>&quot;member&quot;</td><td>2024-03-19 17:50:32</td><td>2024-03-19 17:57:29</td><td>&quot;Madison Ave &amp; E 51 St&quot;</td><td>&quot;Broadway &amp; W 56 St&quot;</td><td>40.75863</td><td>-73.97513</td><td>40.765265</td><td>-73.981923</td><td>6m 57s</td></tr><tr><td>&quot;classic&quot;</td><td>&quot;member&quot;</td><td>2024-03-12 09:17:35</td><td>2024-03-12 09:27:14</td><td>&quot;West End Ave &amp; W 94 St&quot;</td><td>&quot;W 120 St &amp; Claremont Ave&quot;</td><td>40.794165</td><td>-73.974124</td><td>40.810949</td><td>-73.9634</td><td>9m 39s</td></tr><tr><td>&quot;electric&quot;</td><td>&quot;member&quot;</td><td>2024-03-04 08:36:07</td><td>2024-03-04 08:47:09</td><td>&quot;E 75 St &amp; 3 Ave&quot;</td><td>&quot;W 47 St &amp; 6 Ave&quot;</td><td>40.771128</td><td>-73.957581</td><td>40.758397</td><td>-73.98255</td><td>11m 2s</td></tr><tr><td>&quot;classic&quot;</td><td>&quot;member&quot;</td><td>2024-03-05 21:36:17</td><td>2024-03-05 21:45:08</td><td>&quot;10 St &amp; 4 Ave&quot;</td><td>&quot;S Portland Ave &amp; Hanson Pl&quot;</td><td>40.669674</td><td>-73.988989</td><td>40.685396</td><td>-73.974315</td><td>8m 51s</td></tr></tbody></table></div>"
      ],
      "text/plain": [
       "shape: (2_737_881, 11)\n",
       "┌───────────┬───────────┬───────────┬───────────┬───┬───────────┬───────────┬───────────┬──────────┐\n",
       "│ bike_type ┆ rider_typ ┆ datetime_ ┆ datetime_ ┆ … ┆ lon_start ┆ lat_end   ┆ lon_end   ┆ duration │\n",
       "│ ---       ┆ e         ┆ start     ┆ end       ┆   ┆ ---       ┆ ---       ┆ ---       ┆ ---      │\n",
       "│ str       ┆ ---       ┆ ---       ┆ ---       ┆   ┆ f64       ┆ f64       ┆ f64       ┆ duration │\n",
       "│           ┆ str       ┆ datetime[ ┆ datetime[ ┆   ┆           ┆           ┆           ┆ [μs]     │\n",
       "│           ┆           ┆ μs]       ┆ μs]       ┆   ┆           ┆           ┆           ┆          │\n",
       "╞═══════════╪═══════════╪═══════════╪═══════════╪═══╪═══════════╪═══════════╪═══════════╪══════════╡\n",
       "│ electric  ┆ member    ┆ 2024-03-0 ┆ 2024-03-0 ┆ … ┆ -73.91618 ┆ 40.67308  ┆ -73.94191 ┆ 30m 50s  │\n",
       "│           ┆           ┆ 7         ┆ 7         ┆   ┆ 9         ┆           ┆           ┆          │\n",
       "│           ┆           ┆ 19:49:43  ┆ 20:20:33  ┆   ┆           ┆           ┆           ┆          │\n",
       "│ electric  ┆ member    ┆ 2024-03-1 ┆ 2024-03-1 ┆ … ┆ -74.01023 ┆ 40.723627 ┆ -73.99949 ┆ 10m 9s   │\n",
       "│           ┆           ┆ 5         ┆ 5         ┆   ┆ 2         ┆           ┆ 6         ┆          │\n",
       "│           ┆           ┆ 17:45:30  ┆ 17:55:39  ┆   ┆           ┆           ┆           ┆          │\n",
       "│ electric  ┆ member    ┆ 2024-03-1 ┆ 2024-03-1 ┆ … ┆ -73.97722 ┆ 40.753547 ┆ -73.97896 ┆ 6m 34s   │\n",
       "│           ┆           ┆ 9         ┆ 9         ┆   ┆ 5         ┆           ┆ 6         ┆          │\n",
       "│           ┆           ┆ 18:00:52  ┆ 18:07:26  ┆   ┆           ┆           ┆           ┆          │\n",
       "│ electric  ┆ member    ┆ 2024-03-0 ┆ 2024-03-0 ┆ … ┆ -73.97767 ┆ 40.753547 ┆ -73.97896 ┆ 4m 47s   │\n",
       "│           ┆           ┆ 5         ┆ 5         ┆   ┆ 2         ┆           ┆ 6         ┆          │\n",
       "│           ┆           ┆ 17:25:30  ┆ 17:30:17  ┆   ┆           ┆           ┆           ┆          │\n",
       "│ electric  ┆ member    ┆ 2024-03-2 ┆ 2024-03-2 ┆ … ┆ -73.98304 ┆ 40.803865 ┆ -73.95593 ┆ 4m 47s   │\n",
       "│           ┆           ┆ 2         ┆ 2         ┆   ┆ 3         ┆           ┆ 1         ┆          │\n",
       "│           ┆           ┆ 13:18:37  ┆ 13:23:24  ┆   ┆           ┆           ┆           ┆          │\n",
       "│ …         ┆ …         ┆ …         ┆ …         ┆ … ┆ …         ┆ …         ┆ …         ┆ …        │\n",
       "│ classic   ┆ member    ┆ 2024-03-1 ┆ 2024-03-1 ┆ … ┆ -73.97513 ┆ 40.765265 ┆ -73.98192 ┆ 5m 50s   │\n",
       "│           ┆           ┆ 9         ┆ 9         ┆   ┆           ┆           ┆ 3         ┆          │\n",
       "│           ┆           ┆ 12:23:34  ┆ 12:29:24  ┆   ┆           ┆           ┆           ┆          │\n",
       "│ classic   ┆ member    ┆ 2024-03-1 ┆ 2024-03-1 ┆ … ┆ -73.97513 ┆ 40.765265 ┆ -73.98192 ┆ 6m 57s   │\n",
       "│           ┆           ┆ 9         ┆ 9         ┆   ┆           ┆           ┆ 3         ┆          │\n",
       "│           ┆           ┆ 17:50:32  ┆ 17:57:29  ┆   ┆           ┆           ┆           ┆          │\n",
       "│ classic   ┆ member    ┆ 2024-03-1 ┆ 2024-03-1 ┆ … ┆ -73.97412 ┆ 40.810949 ┆ -73.9634  ┆ 9m 39s   │\n",
       "│           ┆           ┆ 2         ┆ 2         ┆   ┆ 4         ┆           ┆           ┆          │\n",
       "│           ┆           ┆ 09:17:35  ┆ 09:27:14  ┆   ┆           ┆           ┆           ┆          │\n",
       "│ electric  ┆ member    ┆ 2024-03-0 ┆ 2024-03-0 ┆ … ┆ -73.95758 ┆ 40.758397 ┆ -73.98255 ┆ 11m 2s   │\n",
       "│           ┆           ┆ 4         ┆ 4         ┆   ┆ 1         ┆           ┆           ┆          │\n",
       "│           ┆           ┆ 08:36:07  ┆ 08:47:09  ┆   ┆           ┆           ┆           ┆          │\n",
       "│ classic   ┆ member    ┆ 2024-03-0 ┆ 2024-03-0 ┆ … ┆ -73.98898 ┆ 40.685396 ┆ -73.97431 ┆ 8m 51s   │\n",
       "│           ┆           ┆ 5         ┆ 5         ┆   ┆ 9         ┆           ┆ 5         ┆          │\n",
       "│           ┆           ┆ 21:36:17  ┆ 21:45:08  ┆   ┆           ┆           ┆           ┆          │\n",
       "└───────────┴───────────┴───────────┴───────────┴───┴───────────┴───────────┴───────────┴──────────┘"
      ]
     },
     "execution_count": 4,
     "metadata": {},
     "output_type": "execute_result"
    }
   ],
   "source": [
    "trips = (\n",
    "    pl.read_csv(\"202403-citibike-tripdata.csv/*.csv\", infer_schema_length=100000)\n",
    "    .select(pl.col(\"rideable_type\").str.split(\"_\").list.get(0).alias(\"bike_type\"),\n",
    "            pl.col(\"member_casual\").alias(\"rider_type\"),\n",
    "            pl.col(\"started_at\").str.strptime(pl.Datetime).alias(\"datetime_start\"),\n",
    "            pl.col(\"ended_at\").str.strptime(pl.Datetime).alias(\"datetime_end\"),\n",
    "            pl.col(\"start_station_name\").alias(\"station_start\"),\n",
    "            pl.col(\"end_station_name\").alias(\"station_end\"),\n",
    "            pl.col(\"start_lat\").alias(\"lat_start\"),\n",
    "            pl.col(\"start_lng\").alias(\"lon_start\"),\n",
    "            pl.col(\"end_lat\").alias(\"lat_end\"),\n",
    "            pl.col(\"end_lng\").alias(\"lon_end\")\n",
    "           )\n",
    "    .with_columns((pl.col(\"datetime_end\") - pl.col(\"datetime_start\")).alias(\"duration\"))\n",
    ")\n",
    "\n",
    "trips"
   ]
  },
  {
   "cell_type": "markdown",
   "id": "f92780bb-05c6-4d0c-bc5f-aaec3bc93b78",
   "metadata": {},
   "source": [
    "## Add distance"
   ]
  },
  {
   "cell_type": "code",
   "execution_count": 5,
   "id": "c10e4964-abdf-461f-88a4-ba01faad5b19",
   "metadata": {},
   "outputs": [],
   "source": [
    "import geopandas as gpd"
   ]
  },
  {
   "cell_type": "code",
   "execution_count": 6,
   "id": "52dfea40-bebe-4273-b94c-c9ac353d9159",
   "metadata": {},
   "outputs": [
    {
     "data": {
      "text/html": [
       "<div><style>\n",
       ".dataframe > thead > tr,\n",
       ".dataframe > tbody > tr {\n",
       "  text-align: right;\n",
       "  white-space: pre-wrap;\n",
       "}\n",
       "</style>\n",
       "<small>shape: (2_737_881, 12)</small><table border=\"1\" class=\"dataframe\"><thead><tr><th>bike_type</th><th>rider_type</th><th>datetime_start</th><th>datetime_end</th><th>station_start</th><th>station_end</th><th>lat_start</th><th>lon_start</th><th>lat_end</th><th>lon_end</th><th>duration</th><th>distance</th></tr><tr><td>str</td><td>str</td><td>datetime[μs]</td><td>datetime[μs]</td><td>str</td><td>str</td><td>f64</td><td>f64</td><td>f64</td><td>f64</td><td>duration[μs]</td><td>f64</td></tr></thead><tbody><tr><td>&quot;electric&quot;</td><td>&quot;member&quot;</td><td>2024-03-07 19:49:43</td><td>2024-03-07 20:20:33</td><td>&quot;48 St &amp; Skillman Ave&quot;</td><td>&quot;Kingston Ave &amp; Park Pl&quot;</td><td>40.746154</td><td>-73.916189</td><td>40.67308</td><td>-73.94191</td><td>30m 50s</td><td>8.400734</td></tr><tr><td>&quot;electric&quot;</td><td>&quot;member&quot;</td><td>2024-03-15 17:45:30</td><td>2024-03-15 17:55:39</td><td>&quot;Liberty St &amp; Broadway&quot;</td><td>&quot;Mercer St &amp; Spring St&quot;</td><td>40.708859</td><td>-74.010232</td><td>40.723627</td><td>-73.999496</td><td>10m 9s</td><td>1.874201</td></tr><tr><td>&quot;electric&quot;</td><td>&quot;member&quot;</td><td>2024-03-19 18:00:52</td><td>2024-03-19 18:07:26</td><td>&quot;W 56 St &amp; 6 Ave&quot;</td><td>&quot;E 43 St &amp; Madison Ave&quot;</td><td>40.763406</td><td>-73.977225</td><td>40.753547</td><td>-73.978966</td><td>6m 34s</td><td>1.10469</td></tr><tr><td>&quot;electric&quot;</td><td>&quot;member&quot;</td><td>2024-03-05 17:25:30</td><td>2024-03-05 17:30:17</td><td>&quot;W 56 St &amp; 6 Ave&quot;</td><td>&quot;E 43 St &amp; Madison Ave&quot;</td><td>40.763062</td><td>-73.977672</td><td>40.753547</td><td>-73.978966</td><td>4m 47s</td><td>1.062271</td></tr><tr><td>&quot;electric&quot;</td><td>&quot;member&quot;</td><td>2024-03-22 13:18:37</td><td>2024-03-22 13:23:24</td><td>&quot;5 Ave &amp; W 126 St&quot;</td><td>&quot;Frederick Douglass Blvd &amp; W 11…</td><td>40.660947</td><td>-73.983043</td><td>40.803865</td><td>-73.955931</td><td>4m 47s</td><td>16.035214</td></tr><tr><td>&hellip;</td><td>&hellip;</td><td>&hellip;</td><td>&hellip;</td><td>&hellip;</td><td>&hellip;</td><td>&hellip;</td><td>&hellip;</td><td>&hellip;</td><td>&hellip;</td><td>&hellip;</td><td>&hellip;</td></tr><tr><td>&quot;classic&quot;</td><td>&quot;member&quot;</td><td>2024-03-19 12:23:34</td><td>2024-03-19 12:29:24</td><td>&quot;Madison Ave &amp; E 51 St&quot;</td><td>&quot;Broadway &amp; W 56 St&quot;</td><td>40.75863</td><td>-73.97513</td><td>40.765265</td><td>-73.981923</td><td>5m 50s</td><td>0.933801</td></tr><tr><td>&quot;classic&quot;</td><td>&quot;member&quot;</td><td>2024-03-19 17:50:32</td><td>2024-03-19 17:57:29</td><td>&quot;Madison Ave &amp; E 51 St&quot;</td><td>&quot;Broadway &amp; W 56 St&quot;</td><td>40.75863</td><td>-73.97513</td><td>40.765265</td><td>-73.981923</td><td>6m 57s</td><td>0.933801</td></tr><tr><td>&quot;classic&quot;</td><td>&quot;member&quot;</td><td>2024-03-12 09:17:35</td><td>2024-03-12 09:27:14</td><td>&quot;West End Ave &amp; W 94 St&quot;</td><td>&quot;W 120 St &amp; Claremont Ave&quot;</td><td>40.794165</td><td>-73.974124</td><td>40.810949</td><td>-73.9634</td><td>9m 39s</td><td>2.071929</td></tr><tr><td>&quot;electric&quot;</td><td>&quot;member&quot;</td><td>2024-03-04 08:36:07</td><td>2024-03-04 08:47:09</td><td>&quot;E 75 St &amp; 3 Ave&quot;</td><td>&quot;W 47 St &amp; 6 Ave&quot;</td><td>40.771128</td><td>-73.957581</td><td>40.758397</td><td>-73.98255</td><td>11m 2s</td><td>2.538398</td></tr><tr><td>&quot;classic&quot;</td><td>&quot;member&quot;</td><td>2024-03-05 21:36:17</td><td>2024-03-05 21:45:08</td><td>&quot;10 St &amp; 4 Ave&quot;</td><td>&quot;S Portland Ave &amp; Hanson Pl&quot;</td><td>40.669674</td><td>-73.988989</td><td>40.685396</td><td>-73.974315</td><td>8m 51s</td><td>2.141812</td></tr></tbody></table></div>"
      ],
      "text/plain": [
       "shape: (2_737_881, 12)\n",
       "┌───────────┬───────────┬───────────┬───────────┬───┬───────────┬───────────┬───────────┬──────────┐\n",
       "│ bike_type ┆ rider_typ ┆ datetime_ ┆ datetime_ ┆ … ┆ lat_end   ┆ lon_end   ┆ duration  ┆ distance │\n",
       "│ ---       ┆ e         ┆ start     ┆ end       ┆   ┆ ---       ┆ ---       ┆ ---       ┆ ---      │\n",
       "│ str       ┆ ---       ┆ ---       ┆ ---       ┆   ┆ f64       ┆ f64       ┆ duration[ ┆ f64      │\n",
       "│           ┆ str       ┆ datetime[ ┆ datetime[ ┆   ┆           ┆           ┆ μs]       ┆          │\n",
       "│           ┆           ┆ μs]       ┆ μs]       ┆   ┆           ┆           ┆           ┆          │\n",
       "╞═══════════╪═══════════╪═══════════╪═══════════╪═══╪═══════════╪═══════════╪═══════════╪══════════╡\n",
       "│ electric  ┆ member    ┆ 2024-03-0 ┆ 2024-03-0 ┆ … ┆ 40.67308  ┆ -73.94191 ┆ 30m 50s   ┆ 8.400734 │\n",
       "│           ┆           ┆ 7         ┆ 7         ┆   ┆           ┆           ┆           ┆          │\n",
       "│           ┆           ┆ 19:49:43  ┆ 20:20:33  ┆   ┆           ┆           ┆           ┆          │\n",
       "│ electric  ┆ member    ┆ 2024-03-1 ┆ 2024-03-1 ┆ … ┆ 40.723627 ┆ -73.99949 ┆ 10m 9s    ┆ 1.874201 │\n",
       "│           ┆           ┆ 5         ┆ 5         ┆   ┆           ┆ 6         ┆           ┆          │\n",
       "│           ┆           ┆ 17:45:30  ┆ 17:55:39  ┆   ┆           ┆           ┆           ┆          │\n",
       "│ electric  ┆ member    ┆ 2024-03-1 ┆ 2024-03-1 ┆ … ┆ 40.753547 ┆ -73.97896 ┆ 6m 34s    ┆ 1.10469  │\n",
       "│           ┆           ┆ 9         ┆ 9         ┆   ┆           ┆ 6         ┆           ┆          │\n",
       "│           ┆           ┆ 18:00:52  ┆ 18:07:26  ┆   ┆           ┆           ┆           ┆          │\n",
       "│ electric  ┆ member    ┆ 2024-03-0 ┆ 2024-03-0 ┆ … ┆ 40.753547 ┆ -73.97896 ┆ 4m 47s    ┆ 1.062271 │\n",
       "│           ┆           ┆ 5         ┆ 5         ┆   ┆           ┆ 6         ┆           ┆          │\n",
       "│           ┆           ┆ 17:25:30  ┆ 17:30:17  ┆   ┆           ┆           ┆           ┆          │\n",
       "│ electric  ┆ member    ┆ 2024-03-2 ┆ 2024-03-2 ┆ … ┆ 40.803865 ┆ -73.95593 ┆ 4m 47s    ┆ 16.03521 │\n",
       "│           ┆           ┆ 2         ┆ 2         ┆   ┆           ┆ 1         ┆           ┆ 4        │\n",
       "│           ┆           ┆ 13:18:37  ┆ 13:23:24  ┆   ┆           ┆           ┆           ┆          │\n",
       "│ …         ┆ …         ┆ …         ┆ …         ┆ … ┆ …         ┆ …         ┆ …         ┆ …        │\n",
       "│ classic   ┆ member    ┆ 2024-03-1 ┆ 2024-03-1 ┆ … ┆ 40.765265 ┆ -73.98192 ┆ 5m 50s    ┆ 0.933801 │\n",
       "│           ┆           ┆ 9         ┆ 9         ┆   ┆           ┆ 3         ┆           ┆          │\n",
       "│           ┆           ┆ 12:23:34  ┆ 12:29:24  ┆   ┆           ┆           ┆           ┆          │\n",
       "│ classic   ┆ member    ┆ 2024-03-1 ┆ 2024-03-1 ┆ … ┆ 40.765265 ┆ -73.98192 ┆ 6m 57s    ┆ 0.933801 │\n",
       "│           ┆           ┆ 9         ┆ 9         ┆   ┆           ┆ 3         ┆           ┆          │\n",
       "│           ┆           ┆ 17:50:32  ┆ 17:57:29  ┆   ┆           ┆           ┆           ┆          │\n",
       "│ classic   ┆ member    ┆ 2024-03-1 ┆ 2024-03-1 ┆ … ┆ 40.810949 ┆ -73.9634  ┆ 9m 39s    ┆ 2.071929 │\n",
       "│           ┆           ┆ 2         ┆ 2         ┆   ┆           ┆           ┆           ┆          │\n",
       "│           ┆           ┆ 09:17:35  ┆ 09:27:14  ┆   ┆           ┆           ┆           ┆          │\n",
       "│ electric  ┆ member    ┆ 2024-03-0 ┆ 2024-03-0 ┆ … ┆ 40.758397 ┆ -73.98255 ┆ 11m 2s    ┆ 2.538398 │\n",
       "│           ┆           ┆ 4         ┆ 4         ┆   ┆           ┆           ┆           ┆          │\n",
       "│           ┆           ┆ 08:36:07  ┆ 08:47:09  ┆   ┆           ┆           ┆           ┆          │\n",
       "│ classic   ┆ member    ┆ 2024-03-0 ┆ 2024-03-0 ┆ … ┆ 40.685396 ┆ -73.97431 ┆ 8m 51s    ┆ 2.141812 │\n",
       "│           ┆           ┆ 5         ┆ 5         ┆   ┆           ┆ 5         ┆           ┆          │\n",
       "│           ┆           ┆ 21:36:17  ┆ 21:45:08  ┆   ┆           ┆           ┆           ┆          │\n",
       "└───────────┴───────────┴───────────┴───────────┴───┴───────────┴───────────┴───────────┴──────────┘"
      ]
     },
     "execution_count": 6,
     "metadata": {},
     "output_type": "execute_result"
    }
   ],
   "source": [
    "# We need to project the coordinates in order to get meters\n",
    "\n",
    "point_start = gpd.GeoSeries(gpd.points_from_xy(trips[\"lon_start\"], trips[\"lat_start\"]), crs=\"EPSG:4326\").to_crs(\"EPSG:32118\")\n",
    "point_end = gpd.GeoSeries(gpd.points_from_xy(trips[\"lon_end\"], trips[\"lat_end\"]), crs=\"EPSG:4326\").to_crs(\"EPSG:32118\")\n",
    "distance = point_start.distance(point_end)\n",
    "\n",
    "trips = trips.with_columns(distance=pl.lit(pl.Series(distance / 1000)))\n",
    "trips"
   ]
  },
  {
   "cell_type": "markdown",
   "id": "e500293c-5d0b-4ae8-bec7-2693ee0c4583",
   "metadata": {},
   "source": [
    "## Stations"
   ]
  },
  {
   "cell_type": "code",
   "execution_count": 7,
   "id": "ff120acc-1aed-4527-91ea-2e1e46171f12",
   "metadata": {},
   "outputs": [],
   "source": [
    "stations = trips.group_by(pl.col(\"station_start\").alias(\"station\")).agg(\n",
    "    pl.col(\"lat_start\").median().alias(\"lat\"),\n",
    "    pl.col(\"lon_start\").median().alias(\"lon\"),\n",
    ").sort(\"station\").drop_nulls()"
   ]
  },
  {
   "cell_type": "code",
   "execution_count": 8,
   "id": "0864c14d-20c0-46b2-8b7f-c3abd192576b",
   "metadata": {},
   "outputs": [],
   "source": [
    "gdf_stations = gpd.GeoDataFrame(\n",
    "    stations.to_pandas(), geometry=gpd.points_from_xy(stations[\"lon\"], stations[\"lat\"]), crs=\"EPSG:4326\"\n",
    ")"
   ]
  },
  {
   "cell_type": "code",
   "execution_count": 9,
   "id": "3462d1b2-6758-4eb5-8bc2-c2a7550189d3",
   "metadata": {},
   "outputs": [
    {
     "data": {
      "text/plain": [
       "<Axes: >"
      ]
     },
     "execution_count": 9,
     "metadata": {},
     "output_type": "execute_result"
    },
    {
     "data": {
      "image/png": "[encoded data removed]",
      "text/plain": [
       "<Figure size 640x480 with 1 Axes>"
      ]
     },
     "metadata": {},
     "output_type": "display_data"
    }
   ],
   "source": [
    "gdf_stations.plot()"
   ]
  },
  {
   "cell_type": "code",
   "execution_count": 10,
   "id": "4f1fb294-3db9-4b34-b0eb-112bfd3a584a",
   "metadata": {},
   "outputs": [
    {
     "data": {
      "text/html": [
       "<div>\n",
       "<style scoped>\n",
       "    .dataframe tbody tr th:only-of-type {\n",
       "        vertical-align: middle;\n",
       "    }\n",
       "\n",
       "    .dataframe tbody tr th {\n",
       "        vertical-align: top;\n",
       "    }\n",
       "\n",
       "    .dataframe thead th {\n",
       "        text-align: right;\n",
       "    }\n",
       "</style>\n",
       "<table border=\"1\" class=\"dataframe\">\n",
       "  <thead>\n",
       "    <tr style=\"text-align: right;\">\n",
       "      <th></th>\n",
       "      <th>neighborhood</th>\n",
       "      <th>boroughCode</th>\n",
       "      <th>borough</th>\n",
       "      <th>X.id</th>\n",
       "      <th>geometry</th>\n",
       "    </tr>\n",
       "  </thead>\n",
       "  <tbody>\n",
       "    <tr>\n",
       "      <th>0</th>\n",
       "      <td>Allerton</td>\n",
       "      <td>2</td>\n",
       "      <td>Bronx</td>\n",
       "      <td>http://nyc.pediacities.com/Resource/Neighborho...</td>\n",
       "      <td>POLYGON ((-73.84860 40.87167, -73.84582 40.870...</td>\n",
       "    </tr>\n",
       "    <tr>\n",
       "      <th>1</th>\n",
       "      <td>Alley Pond Park</td>\n",
       "      <td>4</td>\n",
       "      <td>Queens</td>\n",
       "      <td>http://nyc.pediacities.com/Resource/Neighborho...</td>\n",
       "      <td>POLYGON ((-73.74333 40.73888, -73.74371 40.739...</td>\n",
       "    </tr>\n",
       "    <tr>\n",
       "      <th>2</th>\n",
       "      <td>Arden Heights</td>\n",
       "      <td>5</td>\n",
       "      <td>Staten Island</td>\n",
       "      <td>http://nyc.pediacities.com/Resource/Neighborho...</td>\n",
       "      <td>POLYGON ((-74.16983 40.56108, -74.16982 40.561...</td>\n",
       "    </tr>\n",
       "    <tr>\n",
       "      <th>3</th>\n",
       "      <td>Arlington</td>\n",
       "      <td>5</td>\n",
       "      <td>Staten Island</td>\n",
       "      <td>http://nyc.pediacities.com/Resource/Neighborho...</td>\n",
       "      <td>POLYGON ((-74.15975 40.64142, -74.15998 40.641...</td>\n",
       "    </tr>\n",
       "    <tr>\n",
       "      <th>4</th>\n",
       "      <td>Arrochar</td>\n",
       "      <td>5</td>\n",
       "      <td>Staten Island</td>\n",
       "      <td>http://nyc.pediacities.com/Resource/Neighborho...</td>\n",
       "      <td>POLYGON ((-74.06078 40.59319, -74.06079 40.593...</td>\n",
       "    </tr>\n",
       "    <tr>\n",
       "      <th>...</th>\n",
       "      <td>...</td>\n",
       "      <td>...</td>\n",
       "      <td>...</td>\n",
       "      <td>...</td>\n",
       "      <td>...</td>\n",
       "    </tr>\n",
       "    <tr>\n",
       "      <th>307</th>\n",
       "      <td>Woodside</td>\n",
       "      <td>4</td>\n",
       "      <td>Queens</td>\n",
       "      <td>http://nyc.pediacities.com/Resource/Neighborho...</td>\n",
       "      <td>POLYGON ((-73.90087 40.75767, -73.90014 40.756...</td>\n",
       "    </tr>\n",
       "    <tr>\n",
       "      <th>308</th>\n",
       "      <td>East Williamsburg</td>\n",
       "      <td>3</td>\n",
       "      <td>Brooklyn</td>\n",
       "      <td>None</td>\n",
       "      <td>POLYGON ((-73.94130 40.72180, -73.94060 40.718...</td>\n",
       "    </tr>\n",
       "    <tr>\n",
       "      <th>309</th>\n",
       "      <td>Hamilton Heights</td>\n",
       "      <td>1</td>\n",
       "      <td>Manhattan</td>\n",
       "      <td>None</td>\n",
       "      <td>POLYGON ((-73.95050 40.83490, -73.94110 40.831...</td>\n",
       "    </tr>\n",
       "    <tr>\n",
       "      <th>310</th>\n",
       "      <td>Williamsburg</td>\n",
       "      <td>3</td>\n",
       "      <td>Brooklyn</td>\n",
       "      <td>None</td>\n",
       "      <td>POLYGON ((-73.95757 40.72510, -73.95300 40.722...</td>\n",
       "    </tr>\n",
       "    <tr>\n",
       "      <th>311</th>\n",
       "      <td>Harlem</td>\n",
       "      <td>1</td>\n",
       "      <td>Manhattan</td>\n",
       "      <td>None</td>\n",
       "      <td>POLYGON ((-73.93457 40.82815, -73.93442 40.827...</td>\n",
       "    </tr>\n",
       "  </tbody>\n",
       "</table>\n",
       "<p>312 rows × 5 columns</p>\n",
       "</div>"
      ],
      "text/plain": [
       "          neighborhood boroughCode        borough  \\\n",
       "0             Allerton           2          Bronx   \n",
       "1      Alley Pond Park           4         Queens   \n",
       "2        Arden Heights           5  Staten Island   \n",
       "3            Arlington           5  Staten Island   \n",
       "4             Arrochar           5  Staten Island   \n",
       "..                 ...         ...            ...   \n",
       "307           Woodside           4         Queens   \n",
       "308  East Williamsburg           3       Brooklyn   \n",
       "309   Hamilton Heights           1      Manhattan   \n",
       "310       Williamsburg           3       Brooklyn   \n",
       "311             Harlem           1      Manhattan   \n",
       "\n",
       "                                                  X.id  \\\n",
       "0    http://nyc.pediacities.com/Resource/Neighborho...   \n",
       "1    http://nyc.pediacities.com/Resource/Neighborho...   \n",
       "2    http://nyc.pediacities.com/Resource/Neighborho...   \n",
       "3    http://nyc.pediacities.com/Resource/Neighborho...   \n",
       "4    http://nyc.pediacities.com/Resource/Neighborho...   \n",
       "..                                                 ...   \n",
       "307  http://nyc.pediacities.com/Resource/Neighborho...   \n",
       "308                                               None   \n",
       "309                                               None   \n",
       "310                                               None   \n",
       "311                                               None   \n",
       "\n",
       "                                              geometry  \n",
       "0    POLYGON ((-73.84860 40.87167, -73.84582 40.870...  \n",
       "1    POLYGON ((-73.74333 40.73888, -73.74371 40.739...  \n",
       "2    POLYGON ((-74.16983 40.56108, -74.16982 40.561...  \n",
       "3    POLYGON ((-74.15975 40.64142, -74.15998 40.641...  \n",
       "4    POLYGON ((-74.06078 40.59319, -74.06079 40.593...  \n",
       "..                                                 ...  \n",
       "307  POLYGON ((-73.90087 40.75767, -73.90014 40.756...  \n",
       "308  POLYGON ((-73.94130 40.72180, -73.94060 40.718...  \n",
       "309  POLYGON ((-73.95050 40.83490, -73.94110 40.831...  \n",
       "310  POLYGON ((-73.95757 40.72510, -73.95300 40.722...  \n",
       "311  POLYGON ((-73.93457 40.82815, -73.93442 40.827...  \n",
       "\n",
       "[312 rows x 5 columns]"
      ]
     },
     "execution_count": 10,
     "metadata": {},
     "output_type": "execute_result"
    }
   ],
   "source": [
    "gdf_neighborhoods = gpd.read_file(\"nyc-neighborhoods.geojson\")\n",
    "gdf_neighborhoods"
   ]
  },
  {
   "cell_type": "code",
   "execution_count": 11,
   "id": "a9abf333-25b1-4d73-bc16-aa6f14685351",
   "metadata": {},
   "outputs": [
    {
     "data": {
      "text/plain": [
       "<Axes: >"
      ]
     },
     "execution_count": 11,
     "metadata": {},
     "output_type": "execute_result"
    },
    {
     "data": {
      "image/png": "[encoded data removed]",
      "text/plain": [
       "<Figure size 640x480 with 1 Axes>"
      ]
     },
     "metadata": {},
     "output_type": "display_data"
    }
   ],
   "source": [
    "gdf_neighborhoods.plot()"
   ]
  },
  {
   "cell_type": "code",
   "execution_count": 12,
   "id": "410be4c3-23b0-4f36-955f-b57c55ca588c",
   "metadata": {},
   "outputs": [
    {
     "data": {
      "text/html": [
       "<div><style>\n",
       ".dataframe > thead > tr,\n",
       ".dataframe > tbody > tr {\n",
       "  text-align: right;\n",
       "  white-space: pre-wrap;\n",
       "}\n",
       "</style>\n",
       "<small>shape: (2_136, 3)</small><table border=\"1\" class=\"dataframe\"><thead><tr><th>station</th><th>borough</th><th>neighborhood</th></tr><tr><td>str</td><td>str</td><td>str</td></tr></thead><tbody><tr><td>&quot;1 Ave &amp; E 110 St&quot;</td><td>&quot;Manhattan&quot;</td><td>&quot;East Harlem&quot;</td></tr><tr><td>&quot;1 Ave &amp; E 16 St&quot;</td><td>&quot;Manhattan&quot;</td><td>&quot;Stuyvesant Town&quot;</td></tr><tr><td>&quot;1 Ave &amp; E 18 St&quot;</td><td>&quot;Manhattan&quot;</td><td>&quot;Stuyvesant Town&quot;</td></tr><tr><td>&quot;1 Ave &amp; E 30 St&quot;</td><td>&quot;Manhattan&quot;</td><td>&quot;Kips Bay&quot;</td></tr><tr><td>&quot;1 Ave &amp; E 38 St&quot;</td><td>&quot;Manhattan&quot;</td><td>&quot;Murray Hill&quot;</td></tr><tr><td>&hellip;</td><td>&hellip;</td><td>&hellip;</td></tr><tr><td>&quot;Wyckoff Ave &amp; Stanhope St&quot;</td><td>&quot;Brooklyn&quot;</td><td>&quot;Bushwick&quot;</td></tr><tr><td>&quot;Wyckoff St &amp; 3 Ave&quot;</td><td>&quot;Brooklyn&quot;</td><td>&quot;Gowanus&quot;</td></tr><tr><td>&quot;Wythe Ave &amp; Metropolitan Ave&quot;</td><td>&quot;Brooklyn&quot;</td><td>&quot;Williamsburg&quot;</td></tr><tr><td>&quot;Wythe Ave &amp; N 13 St&quot;</td><td>&quot;Brooklyn&quot;</td><td>&quot;Williamsburg&quot;</td></tr><tr><td>&quot;Yankee Ferry Terminal&quot;</td><td>&quot;Manhattan&quot;</td><td>&quot;Governors Island&quot;</td></tr></tbody></table></div>"
      ],
      "text/plain": [
       "shape: (2_136, 3)\n",
       "┌──────────────────────────────┬───────────┬──────────────────┐\n",
       "│ station                      ┆ borough   ┆ neighborhood     │\n",
       "│ ---                          ┆ ---       ┆ ---              │\n",
       "│ str                          ┆ str       ┆ str              │\n",
       "╞══════════════════════════════╪═══════════╪══════════════════╡\n",
       "│ 1 Ave & E 110 St             ┆ Manhattan ┆ East Harlem      │\n",
       "│ 1 Ave & E 16 St              ┆ Manhattan ┆ Stuyvesant Town  │\n",
       "│ 1 Ave & E 18 St              ┆ Manhattan ┆ Stuyvesant Town  │\n",
       "│ 1 Ave & E 30 St              ┆ Manhattan ┆ Kips Bay         │\n",
       "│ 1 Ave & E 38 St              ┆ Manhattan ┆ Murray Hill      │\n",
       "│ …                            ┆ …         ┆ …                │\n",
       "│ Wyckoff Ave & Stanhope St    ┆ Brooklyn  ┆ Bushwick         │\n",
       "│ Wyckoff St & 3 Ave           ┆ Brooklyn  ┆ Gowanus          │\n",
       "│ Wythe Ave & Metropolitan Ave ┆ Brooklyn  ┆ Williamsburg     │\n",
       "│ Wythe Ave & N 13 St          ┆ Brooklyn  ┆ Williamsburg     │\n",
       "│ Yankee Ferry Terminal        ┆ Manhattan ┆ Governors Island │\n",
       "└──────────────────────────────┴───────────┴──────────────────┘"
      ]
     },
     "execution_count": 12,
     "metadata": {},
     "output_type": "execute_result"
    }
   ],
   "source": [
    "stations = (\n",
    "    pl.from_pandas(gdf_stations.sjoin(gdf_neighborhoods).drop(\"geometry\", axis=1))\n",
    "    .select(pl.col(\"station\"),\n",
    "            pl.col(\"borough\"),\n",
    "            pl.col(\"neighborhood\"),\n",
    "           )\n",
    ")\n",
    "\n",
    "stations"
   ]
  },
  {
   "cell_type": "code",
   "execution_count": 13,
   "id": "b2dbb084-0518-4ec5-9d55-f73361ffa917",
   "metadata": {},
   "outputs": [
    {
     "data": {
      "text/html": [
       "<div><style>\n",
       ".dataframe > thead > tr,\n",
       ".dataframe > tbody > tr {\n",
       "  text-align: right;\n",
       "  white-space: pre-wrap;\n",
       "}\n",
       "</style>\n",
       "<small>shape: (2_737_881, 12)</small><table border=\"1\" class=\"dataframe\"><thead><tr><th>bike_type</th><th>rider_type</th><th>datetime_start</th><th>datetime_end</th><th>station_start</th><th>station_end</th><th>lat_start</th><th>lon_start</th><th>lat_end</th><th>lon_end</th><th>duration</th><th>distance</th></tr><tr><td>str</td><td>str</td><td>datetime[μs]</td><td>datetime[μs]</td><td>str</td><td>str</td><td>f64</td><td>f64</td><td>f64</td><td>f64</td><td>duration[μs]</td><td>f64</td></tr></thead><tbody><tr><td>&quot;electric&quot;</td><td>&quot;member&quot;</td><td>2024-03-07 19:49:43</td><td>2024-03-07 20:20:33</td><td>&quot;48 St &amp; Skillman Ave&quot;</td><td>&quot;Kingston Ave &amp; Park Pl&quot;</td><td>40.746154</td><td>-73.916189</td><td>40.67308</td><td>-73.94191</td><td>30m 50s</td><td>8.400734</td></tr><tr><td>&quot;electric&quot;</td><td>&quot;member&quot;</td><td>2024-03-15 17:45:30</td><td>2024-03-15 17:55:39</td><td>&quot;Liberty St &amp; Broadway&quot;</td><td>&quot;Mercer St &amp; Spring St&quot;</td><td>40.708859</td><td>-74.010232</td><td>40.723627</td><td>-73.999496</td><td>10m 9s</td><td>1.874201</td></tr><tr><td>&quot;electric&quot;</td><td>&quot;member&quot;</td><td>2024-03-19 18:00:52</td><td>2024-03-19 18:07:26</td><td>&quot;W 56 St &amp; 6 Ave&quot;</td><td>&quot;E 43 St &amp; Madison Ave&quot;</td><td>40.763406</td><td>-73.977225</td><td>40.753547</td><td>-73.978966</td><td>6m 34s</td><td>1.10469</td></tr><tr><td>&quot;electric&quot;</td><td>&quot;member&quot;</td><td>2024-03-05 17:25:30</td><td>2024-03-05 17:30:17</td><td>&quot;W 56 St &amp; 6 Ave&quot;</td><td>&quot;E 43 St &amp; Madison Ave&quot;</td><td>40.763062</td><td>-73.977672</td><td>40.753547</td><td>-73.978966</td><td>4m 47s</td><td>1.062271</td></tr><tr><td>&quot;electric&quot;</td><td>&quot;member&quot;</td><td>2024-03-22 13:18:37</td><td>2024-03-22 13:23:24</td><td>&quot;5 Ave &amp; W 126 St&quot;</td><td>&quot;Frederick Douglass Blvd &amp; W 11…</td><td>40.660947</td><td>-73.983043</td><td>40.803865</td><td>-73.955931</td><td>4m 47s</td><td>16.035214</td></tr><tr><td>&hellip;</td><td>&hellip;</td><td>&hellip;</td><td>&hellip;</td><td>&hellip;</td><td>&hellip;</td><td>&hellip;</td><td>&hellip;</td><td>&hellip;</td><td>&hellip;</td><td>&hellip;</td><td>&hellip;</td></tr><tr><td>&quot;classic&quot;</td><td>&quot;member&quot;</td><td>2024-03-19 12:23:34</td><td>2024-03-19 12:29:24</td><td>&quot;Madison Ave &amp; E 51 St&quot;</td><td>&quot;Broadway &amp; W 56 St&quot;</td><td>40.75863</td><td>-73.97513</td><td>40.765265</td><td>-73.981923</td><td>5m 50s</td><td>0.933801</td></tr><tr><td>&quot;classic&quot;</td><td>&quot;member&quot;</td><td>2024-03-19 17:50:32</td><td>2024-03-19 17:57:29</td><td>&quot;Madison Ave &amp; E 51 St&quot;</td><td>&quot;Broadway &amp; W 56 St&quot;</td><td>40.75863</td><td>-73.97513</td><td>40.765265</td><td>-73.981923</td><td>6m 57s</td><td>0.933801</td></tr><tr><td>&quot;classic&quot;</td><td>&quot;member&quot;</td><td>2024-03-12 09:17:35</td><td>2024-03-12 09:27:14</td><td>&quot;West End Ave &amp; W 94 St&quot;</td><td>&quot;W 120 St &amp; Claremont Ave&quot;</td><td>40.794165</td><td>-73.974124</td><td>40.810949</td><td>-73.9634</td><td>9m 39s</td><td>2.071929</td></tr><tr><td>&quot;electric&quot;</td><td>&quot;member&quot;</td><td>2024-03-04 08:36:07</td><td>2024-03-04 08:47:09</td><td>&quot;E 75 St &amp; 3 Ave&quot;</td><td>&quot;W 47 St &amp; 6 Ave&quot;</td><td>40.771128</td><td>-73.957581</td><td>40.758397</td><td>-73.98255</td><td>11m 2s</td><td>2.538398</td></tr><tr><td>&quot;classic&quot;</td><td>&quot;member&quot;</td><td>2024-03-05 21:36:17</td><td>2024-03-05 21:45:08</td><td>&quot;10 St &amp; 4 Ave&quot;</td><td>&quot;S Portland Ave &amp; Hanson Pl&quot;</td><td>40.669674</td><td>-73.988989</td><td>40.685396</td><td>-73.974315</td><td>8m 51s</td><td>2.141812</td></tr></tbody></table></div>"
      ],
      "text/plain": [
       "shape: (2_737_881, 12)\n",
       "┌───────────┬───────────┬───────────┬───────────┬───┬───────────┬───────────┬───────────┬──────────┐\n",
       "│ bike_type ┆ rider_typ ┆ datetime_ ┆ datetime_ ┆ … ┆ lat_end   ┆ lon_end   ┆ duration  ┆ distance │\n",
       "│ ---       ┆ e         ┆ start     ┆ end       ┆   ┆ ---       ┆ ---       ┆ ---       ┆ ---      │\n",
       "│ str       ┆ ---       ┆ ---       ┆ ---       ┆   ┆ f64       ┆ f64       ┆ duration[ ┆ f64      │\n",
       "│           ┆ str       ┆ datetime[ ┆ datetime[ ┆   ┆           ┆           ┆ μs]       ┆          │\n",
       "│           ┆           ┆ μs]       ┆ μs]       ┆   ┆           ┆           ┆           ┆          │\n",
       "╞═══════════╪═══════════╪═══════════╪═══════════╪═══╪═══════════╪═══════════╪═══════════╪══════════╡\n",
       "│ electric  ┆ member    ┆ 2024-03-0 ┆ 2024-03-0 ┆ … ┆ 40.67308  ┆ -73.94191 ┆ 30m 50s   ┆ 8.400734 │\n",
       "│           ┆           ┆ 7         ┆ 7         ┆   ┆           ┆           ┆           ┆          │\n",
       "│           ┆           ┆ 19:49:43  ┆ 20:20:33  ┆   ┆           ┆           ┆           ┆          │\n",
       "│ electric  ┆ member    ┆ 2024-03-1 ┆ 2024-03-1 ┆ … ┆ 40.723627 ┆ -73.99949 ┆ 10m 9s    ┆ 1.874201 │\n",
       "│           ┆           ┆ 5         ┆ 5         ┆   ┆           ┆ 6         ┆           ┆          │\n",
       "│           ┆           ┆ 17:45:30  ┆ 17:55:39  ┆   ┆           ┆           ┆           ┆          │\n",
       "│ electric  ┆ member    ┆ 2024-03-1 ┆ 2024-03-1 ┆ … ┆ 40.753547 ┆ -73.97896 ┆ 6m 34s    ┆ 1.10469  │\n",
       "│           ┆           ┆ 9         ┆ 9         ┆   ┆           ┆ 6         ┆           ┆          │\n",
       "│           ┆           ┆ 18:00:52  ┆ 18:07:26  ┆   ┆           ┆           ┆           ┆          │\n",
       "│ electric  ┆ member    ┆ 2024-03-0 ┆ 2024-03-0 ┆ … ┆ 40.753547 ┆ -73.97896 ┆ 4m 47s    ┆ 1.062271 │\n",
       "│           ┆           ┆ 5         ┆ 5         ┆   ┆           ┆ 6         ┆           ┆          │\n",
       "│           ┆           ┆ 17:25:30  ┆ 17:30:17  ┆   ┆           ┆           ┆           ┆          │\n",
       "│ electric  ┆ member    ┆ 2024-03-2 ┆ 2024-03-2 ┆ … ┆ 40.803865 ┆ -73.95593 ┆ 4m 47s    ┆ 16.03521 │\n",
       "│           ┆           ┆ 2         ┆ 2         ┆   ┆           ┆ 1         ┆           ┆ 4        │\n",
       "│           ┆           ┆ 13:18:37  ┆ 13:23:24  ┆   ┆           ┆           ┆           ┆          │\n",
       "│ …         ┆ …         ┆ …         ┆ …         ┆ … ┆ …         ┆ …         ┆ …         ┆ …        │\n",
       "│ classic   ┆ member    ┆ 2024-03-1 ┆ 2024-03-1 ┆ … ┆ 40.765265 ┆ -73.98192 ┆ 5m 50s    ┆ 0.933801 │\n",
       "│           ┆           ┆ 9         ┆ 9         ┆   ┆           ┆ 3         ┆           ┆          │\n",
       "│           ┆           ┆ 12:23:34  ┆ 12:29:24  ┆   ┆           ┆           ┆           ┆          │\n",
       "│ classic   ┆ member    ┆ 2024-03-1 ┆ 2024-03-1 ┆ … ┆ 40.765265 ┆ -73.98192 ┆ 6m 57s    ┆ 0.933801 │\n",
       "│           ┆           ┆ 9         ┆ 9         ┆   ┆           ┆ 3         ┆           ┆          │\n",
       "│           ┆           ┆ 17:50:32  ┆ 17:57:29  ┆   ┆           ┆           ┆           ┆          │\n",
       "│ classic   ┆ member    ┆ 2024-03-1 ┆ 2024-03-1 ┆ … ┆ 40.810949 ┆ -73.9634  ┆ 9m 39s    ┆ 2.071929 │\n",
       "│           ┆           ┆ 2         ┆ 2         ┆   ┆           ┆           ┆           ┆          │\n",
       "│           ┆           ┆ 09:17:35  ┆ 09:27:14  ┆   ┆           ┆           ┆           ┆          │\n",
       "│ electric  ┆ member    ┆ 2024-03-0 ┆ 2024-03-0 ┆ … ┆ 40.758397 ┆ -73.98255 ┆ 11m 2s    ┆ 2.538398 │\n",
       "│           ┆           ┆ 4         ┆ 4         ┆   ┆           ┆           ┆           ┆          │\n",
       "│           ┆           ┆ 08:36:07  ┆ 08:47:09  ┆   ┆           ┆           ┆           ┆          │\n",
       "│ classic   ┆ member    ┆ 2024-03-0 ┆ 2024-03-0 ┆ … ┆ 40.685396 ┆ -73.97431 ┆ 8m 51s    ┆ 2.141812 │\n",
       "│           ┆           ┆ 5         ┆ 5         ┆   ┆           ┆ 5         ┆           ┆          │\n",
       "│           ┆           ┆ 21:36:17  ┆ 21:45:08  ┆   ┆           ┆           ┆           ┆          │\n",
       "└───────────┴───────────┴───────────┴───────────┴───┴───────────┴───────────┴───────────┴──────────┘"
      ]
     },
     "execution_count": 13,
     "metadata": {},
     "output_type": "execute_result"
    }
   ],
   "source": [
    "trips"
   ]
  },
  {
   "cell_type": "code",
   "execution_count": 14,
   "id": "c68fdccd-e5d2-4add-bfac-0167a18c20ea",
   "metadata": {},
   "outputs": [
    {
     "data": {
      "text/html": [
       "<div><style>\n",
       ".dataframe > thead > tr,\n",
       ".dataframe > tbody > tr {\n",
       "  text-align: right;\n",
       "  white-space: pre-wrap;\n",
       "}\n",
       "</style>\n",
       "<small>shape: (2_735_398, 16)</small><table border=\"1\" class=\"dataframe\"><thead><tr><th>bike_type</th><th>rider_type</th><th>datetime_start</th><th>datetime_end</th><th>duration</th><th>station_start</th><th>station_end</th><th>neighborhood_start</th><th>neighborhood_end</th><th>borough_start</th><th>borough_end</th><th>lat_start</th><th>lon_start</th><th>lat_end</th><th>lon_end</th><th>distance</th></tr><tr><td>cat</td><td>cat</td><td>datetime[μs]</td><td>datetime[μs]</td><td>duration[μs]</td><td>str</td><td>str</td><td>str</td><td>str</td><td>str</td><td>str</td><td>f64</td><td>f64</td><td>f64</td><td>f64</td><td>f64</td></tr></thead><tbody><tr><td>&quot;electric&quot;</td><td>&quot;member&quot;</td><td>2024-03-07 19:49:43</td><td>2024-03-07 20:20:33</td><td>30m 50s</td><td>&quot;48 St &amp; Skillman Ave&quot;</td><td>&quot;Kingston Ave &amp; Park Pl&quot;</td><td>&quot;Sunnyside&quot;</td><td>&quot;Crown Heights&quot;</td><td>&quot;Queens&quot;</td><td>&quot;Brooklyn&quot;</td><td>40.746154</td><td>-73.916189</td><td>40.67308</td><td>-73.94191</td><td>8.400734</td></tr><tr><td>&quot;electric&quot;</td><td>&quot;member&quot;</td><td>2024-03-15 17:45:30</td><td>2024-03-15 17:55:39</td><td>10m 9s</td><td>&quot;Liberty St &amp; Broadway&quot;</td><td>&quot;Mercer St &amp; Spring St&quot;</td><td>&quot;Financial District&quot;</td><td>&quot;SoHo&quot;</td><td>&quot;Manhattan&quot;</td><td>&quot;Manhattan&quot;</td><td>40.708859</td><td>-74.010232</td><td>40.723627</td><td>-73.999496</td><td>1.874201</td></tr><tr><td>&quot;electric&quot;</td><td>&quot;member&quot;</td><td>2024-03-19 18:00:52</td><td>2024-03-19 18:07:26</td><td>6m 34s</td><td>&quot;W 56 St &amp; 6 Ave&quot;</td><td>&quot;E 43 St &amp; Madison Ave&quot;</td><td>&quot;Midtown&quot;</td><td>&quot;Midtown&quot;</td><td>&quot;Manhattan&quot;</td><td>&quot;Manhattan&quot;</td><td>40.763406</td><td>-73.977225</td><td>40.753547</td><td>-73.978966</td><td>1.10469</td></tr><tr><td>&quot;electric&quot;</td><td>&quot;member&quot;</td><td>2024-03-05 17:25:30</td><td>2024-03-05 17:30:17</td><td>4m 47s</td><td>&quot;W 56 St &amp; 6 Ave&quot;</td><td>&quot;E 43 St &amp; Madison Ave&quot;</td><td>&quot;Midtown&quot;</td><td>&quot;Midtown&quot;</td><td>&quot;Manhattan&quot;</td><td>&quot;Manhattan&quot;</td><td>40.763062</td><td>-73.977672</td><td>40.753547</td><td>-73.978966</td><td>1.062271</td></tr><tr><td>&quot;electric&quot;</td><td>&quot;member&quot;</td><td>2024-03-22 13:18:37</td><td>2024-03-22 13:23:24</td><td>4m 47s</td><td>&quot;5 Ave &amp; W 126 St&quot;</td><td>&quot;Frederick Douglass Blvd &amp; W 11…</td><td>&quot;Harlem&quot;</td><td>&quot;Harlem&quot;</td><td>&quot;Manhattan&quot;</td><td>&quot;Manhattan&quot;</td><td>40.660947</td><td>-73.983043</td><td>40.803865</td><td>-73.955931</td><td>16.035214</td></tr><tr><td>&hellip;</td><td>&hellip;</td><td>&hellip;</td><td>&hellip;</td><td>&hellip;</td><td>&hellip;</td><td>&hellip;</td><td>&hellip;</td><td>&hellip;</td><td>&hellip;</td><td>&hellip;</td><td>&hellip;</td><td>&hellip;</td><td>&hellip;</td><td>&hellip;</td><td>&hellip;</td></tr><tr><td>&quot;classic&quot;</td><td>&quot;member&quot;</td><td>2024-03-19 12:23:34</td><td>2024-03-19 12:29:24</td><td>5m 50s</td><td>&quot;Madison Ave &amp; E 51 St&quot;</td><td>&quot;Broadway &amp; W 56 St&quot;</td><td>&quot;Midtown&quot;</td><td>&quot;Midtown&quot;</td><td>&quot;Manhattan&quot;</td><td>&quot;Manhattan&quot;</td><td>40.75863</td><td>-73.97513</td><td>40.765265</td><td>-73.981923</td><td>0.933801</td></tr><tr><td>&quot;classic&quot;</td><td>&quot;member&quot;</td><td>2024-03-19 17:50:32</td><td>2024-03-19 17:57:29</td><td>6m 57s</td><td>&quot;Madison Ave &amp; E 51 St&quot;</td><td>&quot;Broadway &amp; W 56 St&quot;</td><td>&quot;Midtown&quot;</td><td>&quot;Midtown&quot;</td><td>&quot;Manhattan&quot;</td><td>&quot;Manhattan&quot;</td><td>40.75863</td><td>-73.97513</td><td>40.765265</td><td>-73.981923</td><td>0.933801</td></tr><tr><td>&quot;classic&quot;</td><td>&quot;member&quot;</td><td>2024-03-12 09:17:35</td><td>2024-03-12 09:27:14</td><td>9m 39s</td><td>&quot;West End Ave &amp; W 94 St&quot;</td><td>&quot;W 120 St &amp; Claremont Ave&quot;</td><td>&quot;Upper West Side&quot;</td><td>&quot;Morningside Heights&quot;</td><td>&quot;Manhattan&quot;</td><td>&quot;Manhattan&quot;</td><td>40.794165</td><td>-73.974124</td><td>40.810949</td><td>-73.9634</td><td>2.071929</td></tr><tr><td>&quot;electric&quot;</td><td>&quot;member&quot;</td><td>2024-03-04 08:36:07</td><td>2024-03-04 08:47:09</td><td>11m 2s</td><td>&quot;E 75 St &amp; 3 Ave&quot;</td><td>&quot;W 47 St &amp; 6 Ave&quot;</td><td>&quot;Upper East Side&quot;</td><td>&quot;Theater District&quot;</td><td>&quot;Manhattan&quot;</td><td>&quot;Manhattan&quot;</td><td>40.771128</td><td>-73.957581</td><td>40.758397</td><td>-73.98255</td><td>2.538398</td></tr><tr><td>&quot;classic&quot;</td><td>&quot;member&quot;</td><td>2024-03-05 21:36:17</td><td>2024-03-05 21:45:08</td><td>8m 51s</td><td>&quot;10 St &amp; 4 Ave&quot;</td><td>&quot;S Portland Ave &amp; Hanson Pl&quot;</td><td>&quot;South Slope&quot;</td><td>&quot;Fort Greene&quot;</td><td>&quot;Brooklyn&quot;</td><td>&quot;Brooklyn&quot;</td><td>40.669674</td><td>-73.988989</td><td>40.685396</td><td>-73.974315</td><td>2.141812</td></tr></tbody></table></div>"
      ],
      "text/plain": [
       "shape: (2_735_398, 16)\n",
       "┌───────────┬───────────┬───────────┬───────────┬───┬───────────┬───────────┬───────────┬──────────┐\n",
       "│ bike_type ┆ rider_typ ┆ datetime_ ┆ datetime_ ┆ … ┆ lon_start ┆ lat_end   ┆ lon_end   ┆ distance │\n",
       "│ ---       ┆ e         ┆ start     ┆ end       ┆   ┆ ---       ┆ ---       ┆ ---       ┆ ---      │\n",
       "│ cat       ┆ ---       ┆ ---       ┆ ---       ┆   ┆ f64       ┆ f64       ┆ f64       ┆ f64      │\n",
       "│           ┆ cat       ┆ datetime[ ┆ datetime[ ┆   ┆           ┆           ┆           ┆          │\n",
       "│           ┆           ┆ μs]       ┆ μs]       ┆   ┆           ┆           ┆           ┆          │\n",
       "╞═══════════╪═══════════╪═══════════╪═══════════╪═══╪═══════════╪═══════════╪═══════════╪══════════╡\n",
       "│ electric  ┆ member    ┆ 2024-03-0 ┆ 2024-03-0 ┆ … ┆ -73.91618 ┆ 40.67308  ┆ -73.94191 ┆ 8.400734 │\n",
       "│           ┆           ┆ 7         ┆ 7         ┆   ┆ 9         ┆           ┆           ┆          │\n",
       "│           ┆           ┆ 19:49:43  ┆ 20:20:33  ┆   ┆           ┆           ┆           ┆          │\n",
       "│ electric  ┆ member    ┆ 2024-03-1 ┆ 2024-03-1 ┆ … ┆ -74.01023 ┆ 40.723627 ┆ -73.99949 ┆ 1.874201 │\n",
       "│           ┆           ┆ 5         ┆ 5         ┆   ┆ 2         ┆           ┆ 6         ┆          │\n",
       "│           ┆           ┆ 17:45:30  ┆ 17:55:39  ┆   ┆           ┆           ┆           ┆          │\n",
       "│ electric  ┆ member    ┆ 2024-03-1 ┆ 2024-03-1 ┆ … ┆ -73.97722 ┆ 40.753547 ┆ -73.97896 ┆ 1.10469  │\n",
       "│           ┆           ┆ 9         ┆ 9         ┆   ┆ 5         ┆           ┆ 6         ┆          │\n",
       "│           ┆           ┆ 18:00:52  ┆ 18:07:26  ┆   ┆           ┆           ┆           ┆          │\n",
       "│ electric  ┆ member    ┆ 2024-03-0 ┆ 2024-03-0 ┆ … ┆ -73.97767 ┆ 40.753547 ┆ -73.97896 ┆ 1.062271 │\n",
       "│           ┆           ┆ 5         ┆ 5         ┆   ┆ 2         ┆           ┆ 6         ┆          │\n",
       "│           ┆           ┆ 17:25:30  ┆ 17:30:17  ┆   ┆           ┆           ┆           ┆          │\n",
       "│ electric  ┆ member    ┆ 2024-03-2 ┆ 2024-03-2 ┆ … ┆ -73.98304 ┆ 40.803865 ┆ -73.95593 ┆ 16.03521 │\n",
       "│           ┆           ┆ 2         ┆ 2         ┆   ┆ 3         ┆           ┆ 1         ┆ 4        │\n",
       "│           ┆           ┆ 13:18:37  ┆ 13:23:24  ┆   ┆           ┆           ┆           ┆          │\n",
       "│ …         ┆ …         ┆ …         ┆ …         ┆ … ┆ …         ┆ …         ┆ …         ┆ …        │\n",
       "│ classic   ┆ member    ┆ 2024-03-1 ┆ 2024-03-1 ┆ … ┆ -73.97513 ┆ 40.765265 ┆ -73.98192 ┆ 0.933801 │\n",
       "│           ┆           ┆ 9         ┆ 9         ┆   ┆           ┆           ┆ 3         ┆          │\n",
       "│           ┆           ┆ 12:23:34  ┆ 12:29:24  ┆   ┆           ┆           ┆           ┆          │\n",
       "│ classic   ┆ member    ┆ 2024-03-1 ┆ 2024-03-1 ┆ … ┆ -73.97513 ┆ 40.765265 ┆ -73.98192 ┆ 0.933801 │\n",
       "│           ┆           ┆ 9         ┆ 9         ┆   ┆           ┆           ┆ 3         ┆          │\n",
       "│           ┆           ┆ 17:50:32  ┆ 17:57:29  ┆   ┆           ┆           ┆           ┆          │\n",
       "│ classic   ┆ member    ┆ 2024-03-1 ┆ 2024-03-1 ┆ … ┆ -73.97412 ┆ 40.810949 ┆ -73.9634  ┆ 2.071929 │\n",
       "│           ┆           ┆ 2         ┆ 2         ┆   ┆ 4         ┆           ┆           ┆          │\n",
       "│           ┆           ┆ 09:17:35  ┆ 09:27:14  ┆   ┆           ┆           ┆           ┆          │\n",
       "│ electric  ┆ member    ┆ 2024-03-0 ┆ 2024-03-0 ┆ … ┆ -73.95758 ┆ 40.758397 ┆ -73.98255 ┆ 2.538398 │\n",
       "│           ┆           ┆ 4         ┆ 4         ┆   ┆ 1         ┆           ┆           ┆          │\n",
       "│           ┆           ┆ 08:36:07  ┆ 08:47:09  ┆   ┆           ┆           ┆           ┆          │\n",
       "│ classic   ┆ member    ┆ 2024-03-0 ┆ 2024-03-0 ┆ … ┆ -73.98898 ┆ 40.685396 ┆ -73.97431 ┆ 2.141812 │\n",
       "│           ┆           ┆ 5         ┆ 5         ┆   ┆ 9         ┆           ┆ 5         ┆          │\n",
       "│           ┆           ┆ 21:36:17  ┆ 21:45:08  ┆   ┆           ┆           ┆           ┆          │\n",
       "└───────────┴───────────┴───────────┴───────────┴───┴───────────┴───────────┴───────────┴──────────┘"
      ]
     },
     "execution_count": 14,
     "metadata": {},
     "output_type": "execute_result"
    }
   ],
   "source": [
    "trips_final = (\n",
    "    trips.join(stations.select(pl.all().name.suffix(\"_start\")), on=\"station_start\")\n",
    "    .join(stations.select(pl.all().name.suffix(\"_end\")), on=\"station_end\")\n",
    "    .select(\n",
    " pl.col('bike_type').cast(pl.Categorical),\n",
    " pl.col('rider_type').cast(pl.Categorical),       \n",
    " 'datetime_start',\n",
    " 'datetime_end',\n",
    " 'duration',\n",
    " 'station_start',\n",
    " 'station_end',\n",
    " 'neighborhood_start',\n",
    " 'neighborhood_end',\n",
    " 'borough_start',\n",
    " 'borough_end',\n",
    " 'lat_start',\n",
    " 'lon_start', \n",
    " 'lat_end',\n",
    " 'lon_end',\n",
    " 'distance',\n",
    "    )\n",
    ")\n",
    "\n",
    "trips_final"
   ]
  },
  {
   "cell_type": "code",
   "execution_count": 15,
   "id": "8b90e748-b1b2-4654-a5e4-171c0bd8b70c",
   "metadata": {},
   "outputs": [],
   "source": [
    "trips_parts = (\n",
    "    trips_final\n",
    "    .sort(\"datetime_start\")\n",
    "    .with_columns(date=pl.col(\"datetime_start\").dt.date().cast(pl.String))\n",
    "    .partition_by([\"date\"], as_dict=True, include_key=False)\n",
    ")\n",
    "\n",
    "for key, df in trips_parts.items():\n",
    "    df.write_parquet(f\"data/biketrips/biketrips-{key[0]}.parquet\")"
   ]
  },
  {
   "cell_type": "code",
   "execution_count": 16,
   "id": "68475cd0-18dd-448e-a650-6608935b5e31",
   "metadata": {},
   "outputs": [
    {
     "name": "stdout",
     "output_type": "stream",
     "text": [
      "biketrips-2024-03-01.parquet  biketrips-2024-03-17.parquet\n",
      "biketrips-2024-03-02.parquet  biketrips-2024-03-18.parquet\n",
      "biketrips-2024-03-03.parquet  biketrips-2024-03-19.parquet\n",
      "biketrips-2024-03-04.parquet  biketrips-2024-03-20.parquet\n",
      "biketrips-2024-03-05.parquet  biketrips-2024-03-21.parquet\n",
      "biketrips-2024-03-06.parquet  biketrips-2024-03-22.parquet\n",
      "biketrips-2024-03-07.parquet  biketrips-2024-03-23.parquet\n",
      "biketrips-2024-03-08.parquet  biketrips-2024-03-24.parquet\n",
      "biketrips-2024-03-09.parquet  biketrips-2024-03-25.parquet\n",
      "biketrips-2024-03-10.parquet  biketrips-2024-03-26.parquet\n",
      "biketrips-2024-03-11.parquet  biketrips-2024-03-27.parquet\n",
      "biketrips-2024-03-12.parquet  biketrips-2024-03-28.parquet\n",
      "biketrips-2024-03-13.parquet  biketrips-2024-03-29.parquet\n",
      "biketrips-2024-03-14.parquet  biketrips-2024-03-30.parquet\n",
      "biketrips-2024-03-15.parquet  biketrips-2024-03-31.parquet\n",
      "biketrips-2024-03-16.parquet\n"
     ]
    }
   ],
   "source": [
    "! ls data/biketrips"
   ]
  },
  {
   "cell_type": "code",
   "execution_count": 17,
   "id": "23453efa-92b9-4868-af7a-7a8e8a93a2c0",
   "metadata": {},
   "outputs": [],
   "source": [
    "all_trips = pl.read_parquet(\"data/biketrips/*.parquet\")"
   ]
  },
  {
   "cell_type": "code",
   "execution_count": 18,
   "id": "4bd13dd2-db2f-42d4-8b76-5591ccbc291e",
   "metadata": {},
   "outputs": [
    {
     "data": {
      "text/html": [
       "<div><style>\n",
       ".dataframe > thead > tr,\n",
       ".dataframe > tbody > tr {\n",
       "  text-align: right;\n",
       "  white-space: pre-wrap;\n",
       "}\n",
       "</style>\n",
       "<small>shape: (2_735_398, 16)</small><table border=\"1\" class=\"dataframe\"><thead><tr><th>bike_type</th><th>rider_type</th><th>datetime_start</th><th>datetime_end</th><th>duration</th><th>station_start</th><th>station_end</th><th>neighborhood_start</th><th>neighborhood_end</th><th>borough_start</th><th>borough_end</th><th>lat_start</th><th>lon_start</th><th>lat_end</th><th>lon_end</th><th>distance</th></tr><tr><td>cat</td><td>cat</td><td>datetime[μs]</td><td>datetime[μs]</td><td>duration[μs]</td><td>str</td><td>str</td><td>str</td><td>str</td><td>str</td><td>str</td><td>f64</td><td>f64</td><td>f64</td><td>f64</td><td>f64</td></tr></thead><tbody><tr><td>&quot;electric&quot;</td><td>&quot;member&quot;</td><td>2024-03-01 00:00:02</td><td>2024-03-01 00:27:39</td><td>27m 37s</td><td>&quot;W 30 St &amp; 8 Ave&quot;</td><td>&quot;Maiden Ln &amp; Pearl St&quot;</td><td>&quot;Chelsea&quot;</td><td>&quot;Financial District&quot;</td><td>&quot;Manhattan&quot;</td><td>&quot;Manhattan&quot;</td><td>40.749614</td><td>-73.995071</td><td>40.707065</td><td>-74.007319</td><td>4.83703</td></tr><tr><td>&quot;electric&quot;</td><td>&quot;member&quot;</td><td>2024-03-01 00:00:04</td><td>2024-03-01 00:09:29</td><td>9m 25s</td><td>&quot;Longwood Ave &amp; Southern Blvd&quot;</td><td>&quot;Lincoln Ave &amp; E 138 St&quot;</td><td>&quot;Longwood&quot;</td><td>&quot;Mott Haven&quot;</td><td>&quot;Bronx&quot;</td><td>&quot;Bronx&quot;</td><td>40.816459</td><td>-73.896576</td><td>40.810893</td><td>-73.927311</td><td>2.665806</td></tr><tr><td>&quot;classic&quot;</td><td>&quot;member&quot;</td><td>2024-03-01 00:00:05</td><td>2024-03-01 00:31:02</td><td>30m 57s</td><td>&quot;W 30 St &amp; 8 Ave&quot;</td><td>&quot;Broadway &amp; Morris St&quot;</td><td>&quot;Chelsea&quot;</td><td>&quot;Financial District&quot;</td><td>&quot;Manhattan&quot;</td><td>&quot;Manhattan&quot;</td><td>40.749653</td><td>-73.995208</td><td>40.705945</td><td>-74.013219</td><td>5.086562</td></tr><tr><td>&quot;electric&quot;</td><td>&quot;casual&quot;</td><td>2024-03-01 00:00:05</td><td>2024-03-01 00:03:34</td><td>3m 29s</td><td>&quot;Broadway &amp; W 29 St&quot;</td><td>&quot;Broadway &amp; W 25 St&quot;</td><td>&quot;Midtown&quot;</td><td>&quot;Flatiron District&quot;</td><td>&quot;Manhattan&quot;</td><td>&quot;Manhattan&quot;</td><td>40.746424</td><td>-73.988559</td><td>40.742869</td><td>-73.989186</td><td>0.398297</td></tr><tr><td>&quot;electric&quot;</td><td>&quot;member&quot;</td><td>2024-03-01 00:00:09</td><td>2024-03-01 00:11:42</td><td>11m 33s</td><td>&quot;DeKalb Ave &amp; Franklin Ave&quot;</td><td>&quot;6 St &amp; 7 Ave&quot;</td><td>&quot;Bedford-Stuyvesant&quot;</td><td>&quot;Park Slope&quot;</td><td>&quot;Brooklyn&quot;</td><td>&quot;Brooklyn&quot;</td><td>40.69067</td><td>-73.957559</td><td>40.668663</td><td>-73.979881</td><td>3.087634</td></tr><tr><td>&hellip;</td><td>&hellip;</td><td>&hellip;</td><td>&hellip;</td><td>&hellip;</td><td>&hellip;</td><td>&hellip;</td><td>&hellip;</td><td>&hellip;</td><td>&hellip;</td><td>&hellip;</td><td>&hellip;</td><td>&hellip;</td><td>&hellip;</td><td>&hellip;</td><td>&hellip;</td></tr><tr><td>&quot;classic&quot;</td><td>&quot;member&quot;</td><td>2024-03-31 23:59:54</td><td>2024-04-01 00:32:09</td><td>32m 15s</td><td>&quot;Pier 40 - Hudson River Park&quot;</td><td>&quot;Amsterdam Ave &amp; W 73 St&quot;</td><td>&quot;SoHo&quot;</td><td>&quot;Upper West Side&quot;</td><td>&quot;Manhattan&quot;</td><td>&quot;Manhattan&quot;</td><td>40.727714</td><td>-74.011296</td><td>40.779668</td><td>-73.98093</td><td>6.313617</td></tr><tr><td>&quot;electric&quot;</td><td>&quot;member&quot;</td><td>2024-03-31 23:59:56</td><td>2024-04-01 00:02:20</td><td>2m 24s</td><td>&quot;Rivington St &amp; Ridge St&quot;</td><td>&quot;Ave D &amp; E 3 St&quot;</td><td>&quot;Lower East Side&quot;</td><td>&quot;East Village&quot;</td><td>&quot;Manhattan&quot;</td><td>&quot;Manhattan&quot;</td><td>40.718701</td><td>-73.983141</td><td>40.720828</td><td>-73.977932</td><td>0.49954</td></tr><tr><td>&quot;electric&quot;</td><td>&quot;casual&quot;</td><td>2024-03-31 23:59:57</td><td>2024-04-01 00:09:13</td><td>9m 16s</td><td>&quot;12 Ave &amp; W 40 St&quot;</td><td>&quot;Riverside Blvd &amp; W 67 St&quot;</td><td>&quot;Hell&#x27;s Kitchen&quot;</td><td>&quot;Upper West Side&quot;</td><td>&quot;Manhattan&quot;</td><td>&quot;Manhattan&quot;</td><td>40.760944</td><td>-74.002864</td><td>40.777507</td><td>-73.988886</td><td>2.185411</td></tr><tr><td>&quot;electric&quot;</td><td>&quot;casual&quot;</td><td>2024-03-31 23:59:57</td><td>2024-04-01 00:15:39</td><td>15m 42s</td><td>&quot;Hart St &amp; Wyckoff Ave&quot;</td><td>&quot;Monroe St &amp; Bedford Ave&quot;</td><td>&quot;Bushwick&quot;</td><td>&quot;Bedford-Stuyvesant&quot;</td><td>&quot;Brooklyn&quot;</td><td>&quot;Brooklyn&quot;</td><td>40.704865</td><td>-73.919904</td><td>40.685144</td><td>-73.953809</td><td>3.606664</td></tr><tr><td>&quot;classic&quot;</td><td>&quot;casual&quot;</td><td>2024-03-31 23:59:58</td><td>2024-04-01 00:01:38</td><td>1m 40s</td><td>&quot;5 Ave &amp; E 30 St&quot;</td><td>&quot;5 Ave &amp; E 30 St&quot;</td><td>&quot;Midtown&quot;</td><td>&quot;Midtown&quot;</td><td>&quot;Manhattan&quot;</td><td>&quot;Manhattan&quot;</td><td>40.745985</td><td>-73.986295</td><td>40.745985</td><td>-73.986295</td><td>0.0</td></tr></tbody></table></div>"
      ],
      "text/plain": [
       "shape: (2_735_398, 16)\n",
       "┌───────────┬───────────┬───────────┬───────────┬───┬───────────┬───────────┬───────────┬──────────┐\n",
       "│ bike_type ┆ rider_typ ┆ datetime_ ┆ datetime_ ┆ … ┆ lon_start ┆ lat_end   ┆ lon_end   ┆ distance │\n",
       "│ ---       ┆ e         ┆ start     ┆ end       ┆   ┆ ---       ┆ ---       ┆ ---       ┆ ---      │\n",
       "│ cat       ┆ ---       ┆ ---       ┆ ---       ┆   ┆ f64       ┆ f64       ┆ f64       ┆ f64      │\n",
       "│           ┆ cat       ┆ datetime[ ┆ datetime[ ┆   ┆           ┆           ┆           ┆          │\n",
       "│           ┆           ┆ μs]       ┆ μs]       ┆   ┆           ┆           ┆           ┆          │\n",
       "╞═══════════╪═══════════╪═══════════╪═══════════╪═══╪═══════════╪═══════════╪═══════════╪══════════╡\n",
       "│ electric  ┆ member    ┆ 2024-03-0 ┆ 2024-03-0 ┆ … ┆ -73.99507 ┆ 40.707065 ┆ -74.00731 ┆ 4.83703  │\n",
       "│           ┆           ┆ 1         ┆ 1         ┆   ┆ 1         ┆           ┆ 9         ┆          │\n",
       "│           ┆           ┆ 00:00:02  ┆ 00:27:39  ┆   ┆           ┆           ┆           ┆          │\n",
       "│ electric  ┆ member    ┆ 2024-03-0 ┆ 2024-03-0 ┆ … ┆ -73.89657 ┆ 40.810893 ┆ -73.92731 ┆ 2.665806 │\n",
       "│           ┆           ┆ 1         ┆ 1         ┆   ┆ 6         ┆           ┆ 1         ┆          │\n",
       "│           ┆           ┆ 00:00:04  ┆ 00:09:29  ┆   ┆           ┆           ┆           ┆          │\n",
       "│ classic   ┆ member    ┆ 2024-03-0 ┆ 2024-03-0 ┆ … ┆ -73.99520 ┆ 40.705945 ┆ -74.01321 ┆ 5.086562 │\n",
       "│           ┆           ┆ 1         ┆ 1         ┆   ┆ 8         ┆           ┆ 9         ┆          │\n",
       "│           ┆           ┆ 00:00:05  ┆ 00:31:02  ┆   ┆           ┆           ┆           ┆          │\n",
       "│ electric  ┆ casual    ┆ 2024-03-0 ┆ 2024-03-0 ┆ … ┆ -73.98855 ┆ 40.742869 ┆ -73.98918 ┆ 0.398297 │\n",
       "│           ┆           ┆ 1         ┆ 1         ┆   ┆ 9         ┆           ┆ 6         ┆          │\n",
       "│           ┆           ┆ 00:00:05  ┆ 00:03:34  ┆   ┆           ┆           ┆           ┆          │\n",
       "│ electric  ┆ member    ┆ 2024-03-0 ┆ 2024-03-0 ┆ … ┆ -73.95755 ┆ 40.668663 ┆ -73.97988 ┆ 3.087634 │\n",
       "│           ┆           ┆ 1         ┆ 1         ┆   ┆ 9         ┆           ┆ 1         ┆          │\n",
       "│           ┆           ┆ 00:00:09  ┆ 00:11:42  ┆   ┆           ┆           ┆           ┆          │\n",
       "│ …         ┆ …         ┆ …         ┆ …         ┆ … ┆ …         ┆ …         ┆ …         ┆ …        │\n",
       "│ classic   ┆ member    ┆ 2024-03-3 ┆ 2024-04-0 ┆ … ┆ -74.01129 ┆ 40.779668 ┆ -73.98093 ┆ 6.313617 │\n",
       "│           ┆           ┆ 1         ┆ 1         ┆   ┆ 6         ┆           ┆           ┆          │\n",
       "│           ┆           ┆ 23:59:54  ┆ 00:32:09  ┆   ┆           ┆           ┆           ┆          │\n",
       "│ electric  ┆ member    ┆ 2024-03-3 ┆ 2024-04-0 ┆ … ┆ -73.98314 ┆ 40.720828 ┆ -73.97793 ┆ 0.49954  │\n",
       "│           ┆           ┆ 1         ┆ 1         ┆   ┆ 1         ┆           ┆ 2         ┆          │\n",
       "│           ┆           ┆ 23:59:56  ┆ 00:02:20  ┆   ┆           ┆           ┆           ┆          │\n",
       "│ electric  ┆ casual    ┆ 2024-03-3 ┆ 2024-04-0 ┆ … ┆ -74.00286 ┆ 40.777507 ┆ -73.98888 ┆ 2.185411 │\n",
       "│           ┆           ┆ 1         ┆ 1         ┆   ┆ 4         ┆           ┆ 6         ┆          │\n",
       "│           ┆           ┆ 23:59:57  ┆ 00:09:13  ┆   ┆           ┆           ┆           ┆          │\n",
       "│ electric  ┆ casual    ┆ 2024-03-3 ┆ 2024-04-0 ┆ … ┆ -73.91990 ┆ 40.685144 ┆ -73.95380 ┆ 3.606664 │\n",
       "│           ┆           ┆ 1         ┆ 1         ┆   ┆ 4         ┆           ┆ 9         ┆          │\n",
       "│           ┆           ┆ 23:59:57  ┆ 00:15:39  ┆   ┆           ┆           ┆           ┆          │\n",
       "│ classic   ┆ casual    ┆ 2024-03-3 ┆ 2024-04-0 ┆ … ┆ -73.98629 ┆ 40.745985 ┆ -73.98629 ┆ 0.0      │\n",
       "│           ┆           ┆ 1         ┆ 1         ┆   ┆ 5         ┆           ┆ 5         ┆          │\n",
       "│           ┆           ┆ 23:59:58  ┆ 00:01:38  ┆   ┆           ┆           ┆           ┆          │\n",
       "└───────────┴───────────┴───────────┴───────────┴───┴───────────┴───────────┴───────────┴──────────┘"
      ]
     },
     "execution_count": 18,
     "metadata": {},
     "output_type": "execute_result"
    }
   ],
   "source": [
    "all_trips"
   ]
  },
  {
   "cell_type": "markdown",
   "id": "8551a451-7ed0-40e7-bce0-7a9379337696",
   "metadata": {},
   "source": [
    "## Fin."
   ]
  },
  {
   "cell_type": "code",
   "execution_count": null,
   "id": "ccc00d46-605b-4413-8110-a5ae4d1141e8",
   "metadata": {},
   "outputs": [],
   "source": []
  }
 ],
 "metadata": {
  "kernelspec": {
   "display_name": "Python 3 (ipykernel)",
   "language": "python",
   "name": "python3"
  },
  "language_info": {
   "codemirror_mode": {
    "name": "ipython",
    "version": 3
   },
   "file_extension": ".py",
   "mimetype": "text/x-python",
   "name": "python",
   "nbconvert_exporter": "python",
   "pygments_lexer": "ipython3",
   "version": "3.12.3"
  }
 },
 "nbformat": 4,
 "nbformat_minor": 5
}
